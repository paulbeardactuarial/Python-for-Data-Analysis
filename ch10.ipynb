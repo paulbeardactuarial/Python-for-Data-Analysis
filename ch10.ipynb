{
 "cells": [
  {
   "cell_type": "code",
   "execution_count": 2,
   "id": "eebcc1c2",
   "metadata": {},
   "outputs": [],
   "source": [
    "import numpy as np\n",
    "\n",
    "import pandas as pd\n",
    "\n"
   ]
  },
  {
   "cell_type": "code",
   "execution_count": 22,
   "id": "24e523b1",
   "metadata": {},
   "outputs": [
    {
     "name": "stderr",
     "output_type": "stream",
     "text": [
      "C:\\Users\\paulb\\AppData\\Local\\Temp\\ipykernel_16756\\2747561318.py:9: FutureWarning: The provided callable <function mean at 0x000001F120E862A0> is currently using SeriesGroupBy.mean. In a future version of pandas, the provided callable will be used directly. To keep current behavior pass the string \"mean\" instead.\n",
      "  df.groupby(\"key1\").aggregate([np.mean, min, max]).stack(level=1).reset_index().set_index(\"key1\")\n",
      "C:\\Users\\paulb\\AppData\\Local\\Temp\\ipykernel_16756\\2747561318.py:9: FutureWarning: The provided callable <built-in function min> is currently using SeriesGroupBy.min. In a future version of pandas, the provided callable will be used directly. To keep current behavior pass the string \"min\" instead.\n",
      "  df.groupby(\"key1\").aggregate([np.mean, min, max]).stack(level=1).reset_index().set_index(\"key1\")\n",
      "C:\\Users\\paulb\\AppData\\Local\\Temp\\ipykernel_16756\\2747561318.py:9: FutureWarning: The provided callable <built-in function max> is currently using SeriesGroupBy.max. In a future version of pandas, the provided callable will be used directly. To keep current behavior pass the string \"max\" instead.\n",
      "  df.groupby(\"key1\").aggregate([np.mean, min, max]).stack(level=1).reset_index().set_index(\"key1\")\n",
      "C:\\Users\\paulb\\AppData\\Local\\Temp\\ipykernel_16756\\2747561318.py:9: FutureWarning: The provided callable <function mean at 0x000001F120E862A0> is currently using SeriesGroupBy.mean. In a future version of pandas, the provided callable will be used directly. To keep current behavior pass the string \"mean\" instead.\n",
      "  df.groupby(\"key1\").aggregate([np.mean, min, max]).stack(level=1).reset_index().set_index(\"key1\")\n",
      "C:\\Users\\paulb\\AppData\\Local\\Temp\\ipykernel_16756\\2747561318.py:9: FutureWarning: The previous implementation of stack is deprecated and will be removed in a future version of pandas. See the What's New notes for pandas 2.1.0 for details. Specify future_stack=True to adopt the new implementation and silence this warning.\n",
      "  df.groupby(\"key1\").aggregate([np.mean, min, max]).stack(level=1).reset_index().set_index(\"key1\")\n"
     ]
    },
    {
     "data": {
      "application/vnd.microsoft.datawrangler.viewer.v0+json": {
       "columns": [
        {
         "name": "key1",
         "rawType": "object",
         "type": "string"
        },
        {
         "name": "level_1",
         "rawType": "object",
         "type": "string"
        },
        {
         "name": "key2",
         "rawType": "Float64",
         "type": "float"
        },
        {
         "name": "data1",
         "rawType": "float64",
         "type": "float"
        },
        {
         "name": "data2",
         "rawType": "float64",
         "type": "float"
        }
       ],
       "conversionMethod": "pd.DataFrame",
       "ref": "4b103b34-373b-444f-b559-c2e064f558d4",
       "rows": [
        [
         "a",
         "mean",
         "1.5",
         "0.6809400967294407",
         "-0.44563540495852244"
        ],
        [
         "a",
         "min",
         "1.0",
         "0.23545816956106846",
         "-0.7205596103843381"
        ],
        [
         "a",
         "max",
         "2.0",
         "0.9912316050497918",
         "-0.19070863757376075"
        ],
        [
         "b",
         "mean",
         "1.5",
         "-0.0010916322221779934",
         "-0.8735458923892858"
        ],
        [
         "b",
         "min",
         "1.0",
         "-0.20689696947179928",
         "-1.433109549765443"
        ],
        [
         "b",
         "max",
         "2.0",
         "0.2047137050274433",
         "-0.31398223501312883"
        ]
       ],
       "shape": {
        "columns": 4,
        "rows": 6
       }
      },
      "text/html": [
       "<div>\n",
       "<style scoped>\n",
       "    .dataframe tbody tr th:only-of-type {\n",
       "        vertical-align: middle;\n",
       "    }\n",
       "\n",
       "    .dataframe tbody tr th {\n",
       "        vertical-align: top;\n",
       "    }\n",
       "\n",
       "    .dataframe thead th {\n",
       "        text-align: right;\n",
       "    }\n",
       "</style>\n",
       "<table border=\"1\" class=\"dataframe\">\n",
       "  <thead>\n",
       "    <tr style=\"text-align: right;\">\n",
       "      <th></th>\n",
       "      <th>level_1</th>\n",
       "      <th>key2</th>\n",
       "      <th>data1</th>\n",
       "      <th>data2</th>\n",
       "    </tr>\n",
       "    <tr>\n",
       "      <th>key1</th>\n",
       "      <th></th>\n",
       "      <th></th>\n",
       "      <th></th>\n",
       "      <th></th>\n",
       "    </tr>\n",
       "  </thead>\n",
       "  <tbody>\n",
       "    <tr>\n",
       "      <th>a</th>\n",
       "      <td>mean</td>\n",
       "      <td>1.5</td>\n",
       "      <td>0.680940</td>\n",
       "      <td>-0.445635</td>\n",
       "    </tr>\n",
       "    <tr>\n",
       "      <th>a</th>\n",
       "      <td>min</td>\n",
       "      <td>1.0</td>\n",
       "      <td>0.235458</td>\n",
       "      <td>-0.720560</td>\n",
       "    </tr>\n",
       "    <tr>\n",
       "      <th>a</th>\n",
       "      <td>max</td>\n",
       "      <td>2.0</td>\n",
       "      <td>0.991232</td>\n",
       "      <td>-0.190709</td>\n",
       "    </tr>\n",
       "    <tr>\n",
       "      <th>b</th>\n",
       "      <td>mean</td>\n",
       "      <td>1.5</td>\n",
       "      <td>-0.001092</td>\n",
       "      <td>-0.873546</td>\n",
       "    </tr>\n",
       "    <tr>\n",
       "      <th>b</th>\n",
       "      <td>min</td>\n",
       "      <td>1.0</td>\n",
       "      <td>-0.206897</td>\n",
       "      <td>-1.433110</td>\n",
       "    </tr>\n",
       "    <tr>\n",
       "      <th>b</th>\n",
       "      <td>max</td>\n",
       "      <td>2.0</td>\n",
       "      <td>0.204714</td>\n",
       "      <td>-0.313982</td>\n",
       "    </tr>\n",
       "  </tbody>\n",
       "</table>\n",
       "</div>"
      ],
      "text/plain": [
       "     level_1  key2     data1     data2\n",
       "key1                                  \n",
       "a       mean   1.5  0.680940 -0.445635\n",
       "a        min   1.0  0.235458 -0.720560\n",
       "a        max   2.0  0.991232 -0.190709\n",
       "b       mean   1.5 -0.001092 -0.873546\n",
       "b        min   1.0 -0.206897 -1.433110\n",
       "b        max   2.0  0.204714 -0.313982"
      ]
     },
     "execution_count": 22,
     "metadata": {},
     "output_type": "execute_result"
    }
   ],
   "source": [
    "df = pd.DataFrame({\"key1\" : [\"a\", \"a\", None, \"b\", \"b\", \"a\", None],\n",
    "    \"key2\" : pd.Series([1, 2, 1, 2, 1, None, 1],\n",
    "    dtype=\"Int64\"),\n",
    "    \"data1\" : np.random.standard_normal(7),\n",
    "    \"data2\" : np.random.standard_normal(7)})\n",
    "\n",
    "# df.groupby(df[\"key1\"]).aggregate([np.mean, min, max]).stack(level=1).reset_index().set_index(\"key1\")\n",
    "\n",
    "df.groupby(\"key1\").aggregate([np.mean, min, max]).stack(level=1).reset_index().set_index(\"key1\")\n"
   ]
  },
  {
   "cell_type": "code",
   "execution_count": null,
   "id": "7ba73715",
   "metadata": {},
   "outputs": [
    {
     "data": {
      "application/vnd.microsoft.datawrangler.viewer.v0+json": {
       "columns": [
        {
         "name": "index",
         "rawType": "object",
         "type": "string"
        },
        {
         "name": "const",
         "rawType": "float64",
         "type": "float"
        },
        {
         "name": "vowel",
         "rawType": "float64",
         "type": "float"
        }
       ],
       "conversionMethod": "pd.DataFrame",
       "ref": "6f96c24e-cfba-4ad6-90fb-1e3f2e22226c",
       "rows": [
        [
         "Joe",
         "2.9848897988080187",
         "2.12509400587379"
        ],
        [
         "Steve",
         "3.0408737265022143",
         "2.0740507069019536"
        ],
        [
         "Wanda",
         "2.9647348951617727",
         "1.954630292863582"
        ],
        [
         "Jill",
         "2.896535689415973",
         "2.0341653972015754"
        ],
        [
         "Trey",
         "3.202518522440463",
         "1.7296979701552375"
        ]
       ],
       "shape": {
        "columns": 2,
        "rows": 5
       }
      },
      "text/html": [
       "<div>\n",
       "<style scoped>\n",
       "    .dataframe tbody tr th:only-of-type {\n",
       "        vertical-align: middle;\n",
       "    }\n",
       "\n",
       "    .dataframe tbody tr th {\n",
       "        vertical-align: top;\n",
       "    }\n",
       "\n",
       "    .dataframe thead th {\n",
       "        text-align: right;\n",
       "    }\n",
       "</style>\n",
       "<table border=\"1\" class=\"dataframe\">\n",
       "  <thead>\n",
       "    <tr style=\"text-align: right;\">\n",
       "      <th></th>\n",
       "      <th>const</th>\n",
       "      <th>vowel</th>\n",
       "    </tr>\n",
       "  </thead>\n",
       "  <tbody>\n",
       "    <tr>\n",
       "      <th>Joe</th>\n",
       "      <td>2.984890</td>\n",
       "      <td>2.125094</td>\n",
       "    </tr>\n",
       "    <tr>\n",
       "      <th>Steve</th>\n",
       "      <td>3.040874</td>\n",
       "      <td>2.074051</td>\n",
       "    </tr>\n",
       "    <tr>\n",
       "      <th>Wanda</th>\n",
       "      <td>2.964735</td>\n",
       "      <td>1.954630</td>\n",
       "    </tr>\n",
       "    <tr>\n",
       "      <th>Jill</th>\n",
       "      <td>2.896536</td>\n",
       "      <td>2.034165</td>\n",
       "    </tr>\n",
       "    <tr>\n",
       "      <th>Trey</th>\n",
       "      <td>3.202519</td>\n",
       "      <td>1.729698</td>\n",
       "    </tr>\n",
       "  </tbody>\n",
       "</table>\n",
       "</div>"
      ],
      "text/plain": [
       "          const     vowel\n",
       "Joe    2.984890  2.125094\n",
       "Steve  3.040874  2.074051\n",
       "Wanda  2.964735  1.954630\n",
       "Jill   2.896536  2.034165\n",
       "Trey   3.202519  1.729698"
      ]
     },
     "execution_count": 81,
     "metadata": {},
     "output_type": "execute_result"
    }
   ],
   "source": [
    "rn_gen = np.random.default_rng(1)\n",
    "\n",
    "people = pd.DataFrame(rn_gen.normal(1, 0.1, 25).reshape(5, 5),\n",
    "    columns=[\"a\", \"b\", \"c\", \"d\", \"e\"],\n",
    "    index=[\"Joe\", \"Steve\", \"Wanda\", \"Jill\", \"Trey\"])\n",
    "\n",
    "people.groupby(lambda x: x.endswith(\"e\")).sum()\n",
    "\n",
    "col_classifier = dict()\n",
    "for letter in \"a\", \"e\", \"i\", \"o\", \"u\": \n",
    "    col_classifier.update({letter: \"vowel\"})\n",
    "for letter in \"b\", \"c\", \"d\", \"f\", \"g\", \"h\": \n",
    "    col_classifier.update({letter: \"const\"})\n",
    "\n",
    "# we can use dictionaries directly to classify groups (rather than spawning a separate column with the mapping)\n",
    "people.T.groupby(col_classifier).sum().T # note we use .T method, although using axis = \"columns\" was recommended in book but appears to be depracated for T"
   ]
  }
 ],
 "metadata": {
  "kernelspec": {
   "display_name": ".venv",
   "language": "python",
   "name": "python3"
  },
  "language_info": {
   "codemirror_mode": {
    "name": "ipython",
    "version": 3
   },
   "file_extension": ".py",
   "mimetype": "text/x-python",
   "name": "python",
   "nbconvert_exporter": "python",
   "pygments_lexer": "ipython3",
   "version": "3.13.3"
  }
 },
 "nbformat": 4,
 "nbformat_minor": 5
}
