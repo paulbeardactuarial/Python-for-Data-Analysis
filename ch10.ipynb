{
 "cells": [
  {
   "cell_type": "code",
   "execution_count": 2,
   "id": "eebcc1c2",
   "metadata": {},
   "outputs": [],
   "source": [
    "import numpy as np\n",
    "\n",
    "import pandas as pd\n",
    "\n"
   ]
  },
  {
   "cell_type": "code",
   "execution_count": 22,
   "id": "24e523b1",
   "metadata": {},
   "outputs": [
    {
     "name": "stderr",
     "output_type": "stream",
     "text": [
      "C:\\Users\\paulb\\AppData\\Local\\Temp\\ipykernel_16756\\2747561318.py:9: FutureWarning: The provided callable <function mean at 0x000001F120E862A0> is currently using SeriesGroupBy.mean. In a future version of pandas, the provided callable will be used directly. To keep current behavior pass the string \"mean\" instead.\n",
      "  df.groupby(\"key1\").aggregate([np.mean, min, max]).stack(level=1).reset_index().set_index(\"key1\")\n",
      "C:\\Users\\paulb\\AppData\\Local\\Temp\\ipykernel_16756\\2747561318.py:9: FutureWarning: The provided callable <built-in function min> is currently using SeriesGroupBy.min. In a future version of pandas, the provided callable will be used directly. To keep current behavior pass the string \"min\" instead.\n",
      "  df.groupby(\"key1\").aggregate([np.mean, min, max]).stack(level=1).reset_index().set_index(\"key1\")\n",
      "C:\\Users\\paulb\\AppData\\Local\\Temp\\ipykernel_16756\\2747561318.py:9: FutureWarning: The provided callable <built-in function max> is currently using SeriesGroupBy.max. In a future version of pandas, the provided callable will be used directly. To keep current behavior pass the string \"max\" instead.\n",
      "  df.groupby(\"key1\").aggregate([np.mean, min, max]).stack(level=1).reset_index().set_index(\"key1\")\n",
      "C:\\Users\\paulb\\AppData\\Local\\Temp\\ipykernel_16756\\2747561318.py:9: FutureWarning: The provided callable <function mean at 0x000001F120E862A0> is currently using SeriesGroupBy.mean. In a future version of pandas, the provided callable will be used directly. To keep current behavior pass the string \"mean\" instead.\n",
      "  df.groupby(\"key1\").aggregate([np.mean, min, max]).stack(level=1).reset_index().set_index(\"key1\")\n",
      "C:\\Users\\paulb\\AppData\\Local\\Temp\\ipykernel_16756\\2747561318.py:9: FutureWarning: The previous implementation of stack is deprecated and will be removed in a future version of pandas. See the What's New notes for pandas 2.1.0 for details. Specify future_stack=True to adopt the new implementation and silence this warning.\n",
      "  df.groupby(\"key1\").aggregate([np.mean, min, max]).stack(level=1).reset_index().set_index(\"key1\")\n"
     ]
    },
    {
     "data": {
      "application/vnd.microsoft.datawrangler.viewer.v0+json": {
       "columns": [
        {
         "name": "key1",
         "rawType": "object",
         "type": "string"
        },
        {
         "name": "level_1",
         "rawType": "object",
         "type": "string"
        },
        {
         "name": "key2",
         "rawType": "Float64",
         "type": "float"
        },
        {
         "name": "data1",
         "rawType": "float64",
         "type": "float"
        },
        {
         "name": "data2",
         "rawType": "float64",
         "type": "float"
        }
       ],
       "conversionMethod": "pd.DataFrame",
       "ref": "4b103b34-373b-444f-b559-c2e064f558d4",
       "rows": [
        [
         "a",
         "mean",
         "1.5",
         "0.6809400967294407",
         "-0.44563540495852244"
        ],
        [
         "a",
         "min",
         "1.0",
         "0.23545816956106846",
         "-0.7205596103843381"
        ],
        [
         "a",
         "max",
         "2.0",
         "0.9912316050497918",
         "-0.19070863757376075"
        ],
        [
         "b",
         "mean",
         "1.5",
         "-0.0010916322221779934",
         "-0.8735458923892858"
        ],
        [
         "b",
         "min",
         "1.0",
         "-0.20689696947179928",
         "-1.433109549765443"
        ],
        [
         "b",
         "max",
         "2.0",
         "0.2047137050274433",
         "-0.31398223501312883"
        ]
       ],
       "shape": {
        "columns": 4,
        "rows": 6
       }
      },
      "text/html": [
       "<div>\n",
       "<style scoped>\n",
       "    .dataframe tbody tr th:only-of-type {\n",
       "        vertical-align: middle;\n",
       "    }\n",
       "\n",
       "    .dataframe tbody tr th {\n",
       "        vertical-align: top;\n",
       "    }\n",
       "\n",
       "    .dataframe thead th {\n",
       "        text-align: right;\n",
       "    }\n",
       "</style>\n",
       "<table border=\"1\" class=\"dataframe\">\n",
       "  <thead>\n",
       "    <tr style=\"text-align: right;\">\n",
       "      <th></th>\n",
       "      <th>level_1</th>\n",
       "      <th>key2</th>\n",
       "      <th>data1</th>\n",
       "      <th>data2</th>\n",
       "    </tr>\n",
       "    <tr>\n",
       "      <th>key1</th>\n",
       "      <th></th>\n",
       "      <th></th>\n",
       "      <th></th>\n",
       "      <th></th>\n",
       "    </tr>\n",
       "  </thead>\n",
       "  <tbody>\n",
       "    <tr>\n",
       "      <th>a</th>\n",
       "      <td>mean</td>\n",
       "      <td>1.5</td>\n",
       "      <td>0.680940</td>\n",
       "      <td>-0.445635</td>\n",
       "    </tr>\n",
       "    <tr>\n",
       "      <th>a</th>\n",
       "      <td>min</td>\n",
       "      <td>1.0</td>\n",
       "      <td>0.235458</td>\n",
       "      <td>-0.720560</td>\n",
       "    </tr>\n",
       "    <tr>\n",
       "      <th>a</th>\n",
       "      <td>max</td>\n",
       "      <td>2.0</td>\n",
       "      <td>0.991232</td>\n",
       "      <td>-0.190709</td>\n",
       "    </tr>\n",
       "    <tr>\n",
       "      <th>b</th>\n",
       "      <td>mean</td>\n",
       "      <td>1.5</td>\n",
       "      <td>-0.001092</td>\n",
       "      <td>-0.873546</td>\n",
       "    </tr>\n",
       "    <tr>\n",
       "      <th>b</th>\n",
       "      <td>min</td>\n",
       "      <td>1.0</td>\n",
       "      <td>-0.206897</td>\n",
       "      <td>-1.433110</td>\n",
       "    </tr>\n",
       "    <tr>\n",
       "      <th>b</th>\n",
       "      <td>max</td>\n",
       "      <td>2.0</td>\n",
       "      <td>0.204714</td>\n",
       "      <td>-0.313982</td>\n",
       "    </tr>\n",
       "  </tbody>\n",
       "</table>\n",
       "</div>"
      ],
      "text/plain": [
       "     level_1  key2     data1     data2\n",
       "key1                                  \n",
       "a       mean   1.5  0.680940 -0.445635\n",
       "a        min   1.0  0.235458 -0.720560\n",
       "a        max   2.0  0.991232 -0.190709\n",
       "b       mean   1.5 -0.001092 -0.873546\n",
       "b        min   1.0 -0.206897 -1.433110\n",
       "b        max   2.0  0.204714 -0.313982"
      ]
     },
     "execution_count": 22,
     "metadata": {},
     "output_type": "execute_result"
    }
   ],
   "source": [
    "df = pd.DataFrame({\"key1\" : [\"a\", \"a\", None, \"b\", \"b\", \"a\", None],\n",
    "    \"key2\" : pd.Series([1, 2, 1, 2, 1, None, 1],\n",
    "    dtype=\"Int64\"),\n",
    "    \"data1\" : np.random.standard_normal(7),\n",
    "    \"data2\" : np.random.standard_normal(7)})\n",
    "\n",
    "# df.groupby(df[\"key1\"]).aggregate([np.mean, min, max]).stack(level=1).reset_index().set_index(\"key1\")\n",
    "\n",
    "df.groupby(\"key1\").aggregate([np.mean, min, max]).stack(level=1).reset_index().set_index(\"key1\")\n"
   ]
  },
  {
   "cell_type": "code",
   "execution_count": null,
   "id": "7ba73715",
   "metadata": {},
   "outputs": [
    {
     "data": {
      "application/vnd.microsoft.datawrangler.viewer.v0+json": {
       "columns": [
        {
         "name": "index",
         "rawType": "object",
         "type": "string"
        },
        {
         "name": "const",
         "rawType": "float64",
         "type": "float"
        },
        {
         "name": "vowel",
         "rawType": "float64",
         "type": "float"
        }
       ],
       "conversionMethod": "pd.DataFrame",
       "ref": "6f96c24e-cfba-4ad6-90fb-1e3f2e22226c",
       "rows": [
        [
         "Joe",
         "2.9848897988080187",
         "2.12509400587379"
        ],
        [
         "Steve",
         "3.0408737265022143",
         "2.0740507069019536"
        ],
        [
         "Wanda",
         "2.9647348951617727",
         "1.954630292863582"
        ],
        [
         "Jill",
         "2.896535689415973",
         "2.0341653972015754"
        ],
        [
         "Trey",
         "3.202518522440463",
         "1.7296979701552375"
        ]
       ],
       "shape": {
        "columns": 2,
        "rows": 5
       }
      },
      "text/html": [
       "<div>\n",
       "<style scoped>\n",
       "    .dataframe tbody tr th:only-of-type {\n",
       "        vertical-align: middle;\n",
       "    }\n",
       "\n",
       "    .dataframe tbody tr th {\n",
       "        vertical-align: top;\n",
       "    }\n",
       "\n",
       "    .dataframe thead th {\n",
       "        text-align: right;\n",
       "    }\n",
       "</style>\n",
       "<table border=\"1\" class=\"dataframe\">\n",
       "  <thead>\n",
       "    <tr style=\"text-align: right;\">\n",
       "      <th></th>\n",
       "      <th>const</th>\n",
       "      <th>vowel</th>\n",
       "    </tr>\n",
       "  </thead>\n",
       "  <tbody>\n",
       "    <tr>\n",
       "      <th>Joe</th>\n",
       "      <td>2.984890</td>\n",
       "      <td>2.125094</td>\n",
       "    </tr>\n",
       "    <tr>\n",
       "      <th>Steve</th>\n",
       "      <td>3.040874</td>\n",
       "      <td>2.074051</td>\n",
       "    </tr>\n",
       "    <tr>\n",
       "      <th>Wanda</th>\n",
       "      <td>2.964735</td>\n",
       "      <td>1.954630</td>\n",
       "    </tr>\n",
       "    <tr>\n",
       "      <th>Jill</th>\n",
       "      <td>2.896536</td>\n",
       "      <td>2.034165</td>\n",
       "    </tr>\n",
       "    <tr>\n",
       "      <th>Trey</th>\n",
       "      <td>3.202519</td>\n",
       "      <td>1.729698</td>\n",
       "    </tr>\n",
       "  </tbody>\n",
       "</table>\n",
       "</div>"
      ],
      "text/plain": [
       "          const     vowel\n",
       "Joe    2.984890  2.125094\n",
       "Steve  3.040874  2.074051\n",
       "Wanda  2.964735  1.954630\n",
       "Jill   2.896536  2.034165\n",
       "Trey   3.202519  1.729698"
      ]
     },
     "execution_count": 81,
     "metadata": {},
     "output_type": "execute_result"
    }
   ],
   "source": [
    "rn_gen = np.random.default_rng(1)\n",
    "\n",
    "people = pd.DataFrame(rn_gen.normal(1, 0.1, 25).reshape(5, 5),\n",
    "    columns=[\"a\", \"b\", \"c\", \"d\", \"e\"],\n",
    "    index=[\"Joe\", \"Steve\", \"Wanda\", \"Jill\", \"Trey\"])\n",
    "\n",
    "people.groupby(lambda x: x.endswith(\"e\")).sum()\n",
    "\n",
    "col_classifier = dict()\n",
    "for letter in \"a\", \"e\", \"i\", \"o\", \"u\": \n",
    "    col_classifier.update({letter: \"vowel\"})\n",
    "for letter in \"b\", \"c\", \"d\", \"f\", \"g\", \"h\": \n",
    "    col_classifier.update({letter: \"const\"})\n",
    "\n",
    "# we can use dictionaries directly to classify groups (rather than spawning a separate column with the mapping)\n",
    "people.T.groupby(col_classifier).sum().T # note we use .T method, although using axis = \"columns\" was recommended in book but appears to be depracated for T"
   ]
  },
  {
   "cell_type": "code",
   "execution_count": 170,
   "id": "81c8e223",
   "metadata": {},
   "outputs": [],
   "source": [
    "# Set a random seed for reproducibility\n",
    "np.random.seed(42)\n",
    "\n",
    "# Define possible categories\n",
    "categories = ['A', 'B', 'C']\n",
    "\n",
    "# Generate the dataset\n",
    "data = {\n",
    "    'ID': range(1, 11),\n",
    "    'Category': np.random.choice(categories, size=10),\n",
    "    'Value1': np.random.randint(10, 100, size=10),\n",
    "    'Value2': np.random.normal(loc=50, scale=10, size=10).round(2)\n",
    "}\n",
    "\n",
    "df = pd.DataFrame(data)\n",
    "\n",
    "df2 = df"
   ]
  },
  {
   "cell_type": "code",
   "execution_count": 115,
   "id": "600ed29d",
   "metadata": {},
   "outputs": [
    {
     "data": {
      "application/vnd.microsoft.datawrangler.viewer.v0+json": {
       "columns": [
        {
         "name": "Category",
         "rawType": "object",
         "type": "string"
        },
        {
         "name": "value2min",
         "rawType": "float64",
         "type": "float"
        },
        {
         "name": "value1min",
         "rawType": "int32",
         "type": "integer"
        },
        {
         "name": "value1max",
         "rawType": "int32",
         "type": "integer"
        }
       ],
       "conversionMethod": "pd.DataFrame",
       "ref": "57ee01c0-0aac-4738-9c9f-7667e5889065",
       "rows": [
        [
         "A",
         "23.87",
         "12",
         "31"
        ],
        [
         "B",
         "34.76",
         "11",
         "11"
        ],
        [
         "C",
         "40.76",
         "33",
         "97"
        ]
       ],
       "shape": {
        "columns": 3,
        "rows": 3
       }
      },
      "text/html": [
       "<div>\n",
       "<style scoped>\n",
       "    .dataframe tbody tr th:only-of-type {\n",
       "        vertical-align: middle;\n",
       "    }\n",
       "\n",
       "    .dataframe tbody tr th {\n",
       "        vertical-align: top;\n",
       "    }\n",
       "\n",
       "    .dataframe thead th {\n",
       "        text-align: right;\n",
       "    }\n",
       "</style>\n",
       "<table border=\"1\" class=\"dataframe\">\n",
       "  <thead>\n",
       "    <tr style=\"text-align: right;\">\n",
       "      <th></th>\n",
       "      <th>value2min</th>\n",
       "      <th>value1min</th>\n",
       "      <th>value1max</th>\n",
       "    </tr>\n",
       "    <tr>\n",
       "      <th>Category</th>\n",
       "      <th></th>\n",
       "      <th></th>\n",
       "      <th></th>\n",
       "    </tr>\n",
       "  </thead>\n",
       "  <tbody>\n",
       "    <tr>\n",
       "      <th>A</th>\n",
       "      <td>23.87</td>\n",
       "      <td>12</td>\n",
       "      <td>31</td>\n",
       "    </tr>\n",
       "    <tr>\n",
       "      <th>B</th>\n",
       "      <td>34.76</td>\n",
       "      <td>11</td>\n",
       "      <td>11</td>\n",
       "    </tr>\n",
       "    <tr>\n",
       "      <th>C</th>\n",
       "      <td>40.76</td>\n",
       "      <td>33</td>\n",
       "      <td>97</td>\n",
       "    </tr>\n",
       "  </tbody>\n",
       "</table>\n",
       "</div>"
      ],
      "text/plain": [
       "          value2min  value1min  value1max\n",
       "Category                                 \n",
       "A             23.87         12         31\n",
       "B             34.76         11         11\n",
       "C             40.76         33         97"
      ]
     },
     "execution_count": 115,
     "metadata": {},
     "output_type": "execute_result"
    }
   ],
   "source": [
    "df.groupby(\"Category\")[\"Value1\"].agg([(\"average\", \"mean\"), (\"maximum\", \"max\")])\n",
    "\n",
    "df.groupby(\"Category\").agg({\"Value2\": [\"min\", \"max\"], \"Value1\": \"min\"})\n",
    "\n",
    "df.groupby(\"Category\").agg(\n",
    "    value2min = pd.NamedAgg(column=\"Value2\", aggfunc=\"min\"),\n",
    "    value1min = pd.NamedAgg(column=\"Value1\", aggfunc=\"min\"), \n",
    "    value1max = pd.NamedAgg(column=\"Value1\", aggfunc=\"max\")\n",
    ")"
   ]
  },
  {
   "cell_type": "code",
   "execution_count": null,
   "id": "23c5eeb2",
   "metadata": {},
   "outputs": [
    {
     "name": "stderr",
     "output_type": "stream",
     "text": [
      "C:\\Users\\paulb\\AppData\\Local\\Temp\\ipykernel_16756\\3587759283.py:2: FutureWarning: The default of observed=False is deprecated and will be changed to True in a future version of pandas. Pass observed=False to retain current behavior or observed=True to adopt the future default and silence this warning.\n",
      "  df.groupby(df_groups)[\"Value2\"].agg([\"mean\", \"max\", \"min\", \"count\"]).reset_index()\n",
      "C:\\Users\\paulb\\AppData\\Local\\Temp\\ipykernel_16756\\3587759283.py:9: FutureWarning: The default of observed=False is deprecated and will be changed to True in a future version of pandas. Pass observed=False to retain current behavior or observed=True to adopt the future default and silence this warning.\n",
      "  v2 = df.groupby(df_groups)[\"Value2\"].apply(missing_to_mean)\n",
      "C:\\Users\\paulb\\AppData\\Local\\Temp\\ipykernel_16756\\3587759283.py:16: FutureWarning: The default of observed=False is deprecated and will be changed to True in a future version of pandas. Pass observed=False to retain current behavior or observed=True to adopt the future default and silence this warning.\n",
      "  v3 = df.groupby(df_groups, group_keys=False)[\"Value2\"].apply(missing_to_mean)\n"
     ]
    },
    {
     "data": {
      "text/plain": [
       "0    0.0\n",
       "1    0.0\n",
       "2    0.0\n",
       "3    0.0\n",
       "4    0.0\n",
       "5    0.0\n",
       "6    0.0\n",
       "7    0.0\n",
       "8    0.0\n",
       "9    0.0\n",
       "Name: Value2, dtype: float64"
      ]
     },
     "execution_count": 167,
     "metadata": {},
     "output_type": "execute_result"
    }
   ],
   "source": [
    "df_groups = pd.cut(df.Value1, 3)\n",
    "df.groupby(df_groups)[\"Value2\"].agg([\"mean\", \"max\", \"min\", \"count\"]).reset_index()\n",
    "\n",
    "df.loc[[1, 8], \"Value2\"] = np.nan # create some NA cells\n",
    "\n",
    "def missing_to_mean(s):\n",
    "    return s.fillna(s.mean())\n",
    "\n",
    "v2 = df.groupby(df_groups)[\"Value2\"].apply(missing_to_mean)\n",
    "v2.index = v2.index.get_level_values(1)\n",
    "\n",
    "\n",
    "df[\"Value2_with_missing\"] = v2\n",
    "df\n",
    "\n",
    "v3 = df.groupby(df_groups, group_keys=False)[\"Value2\"].apply(missing_to_mean)\n",
    "v3 - v2"
   ]
  },
  {
   "cell_type": "code",
   "execution_count": null,
   "id": "828cbb19",
   "metadata": {},
   "outputs": [
    {
     "data": {
      "application/vnd.microsoft.datawrangler.viewer.v0+json": {
       "columns": [
        {
         "name": "index",
         "rawType": "int64",
         "type": "integer"
        },
        {
         "name": "ID",
         "rawType": "int64",
         "type": "integer"
        },
        {
         "name": "Category",
         "rawType": "object",
         "type": "string"
        },
        {
         "name": "Value1",
         "rawType": "int32",
         "type": "integer"
        },
        {
         "name": "Value2",
         "rawType": "float64",
         "type": "float"
        },
        {
         "name": "V2_diff_from_mean",
         "rawType": "float64",
         "type": "float"
        }
       ],
       "conversionMethod": "pd.DataFrame",
       "ref": "d98d99ac-d889-4b2e-8e3d-858d35e1d6a3",
       "rows": [
        [
         "4",
         "5",
         "A",
         "12",
         "23.87",
         "18.83666666666667"
        ],
        [
         "1",
         "2",
         "A",
         "84",
         "44.75",
         "-2.0433333333333294"
        ],
        [
         "5",
         "6",
         "A",
         "31",
         "59.5",
         "-16.79333333333333"
        ],
        [
         "7",
         "8",
         "B",
         "11",
         "34.76",
         "0.0"
        ],
        [
         "3",
         "4",
         "C",
         "33",
         "40.76",
         "5.189999999999998"
        ],
        [
         "9",
         "10",
         "C",
         "39",
         "42.58",
         "3.3699999999999974"
        ],
        [
         "0",
         "1",
         "C",
         "84",
         "44.19",
         "1.759999999999998"
        ],
        [
         "2",
         "3",
         "C",
         "97",
         "44.29",
         "1.6599999999999966"
        ],
        [
         "8",
         "9",
         "C",
         "97",
         "45.72",
         "0.22999999999999687"
        ],
        [
         "6",
         "7",
         "C",
         "62",
         "58.16",
         "-12.21"
        ]
       ],
       "shape": {
        "columns": 5,
        "rows": 10
       }
      },
      "text/html": [
       "<div>\n",
       "<style scoped>\n",
       "    .dataframe tbody tr th:only-of-type {\n",
       "        vertical-align: middle;\n",
       "    }\n",
       "\n",
       "    .dataframe tbody tr th {\n",
       "        vertical-align: top;\n",
       "    }\n",
       "\n",
       "    .dataframe thead th {\n",
       "        text-align: right;\n",
       "    }\n",
       "</style>\n",
       "<table border=\"1\" class=\"dataframe\">\n",
       "  <thead>\n",
       "    <tr style=\"text-align: right;\">\n",
       "      <th></th>\n",
       "      <th>ID</th>\n",
       "      <th>Category</th>\n",
       "      <th>Value1</th>\n",
       "      <th>Value2</th>\n",
       "      <th>V2_diff_from_mean</th>\n",
       "    </tr>\n",
       "  </thead>\n",
       "  <tbody>\n",
       "    <tr>\n",
       "      <th>4</th>\n",
       "      <td>5</td>\n",
       "      <td>A</td>\n",
       "      <td>12</td>\n",
       "      <td>23.87</td>\n",
       "      <td>18.836667</td>\n",
       "    </tr>\n",
       "    <tr>\n",
       "      <th>1</th>\n",
       "      <td>2</td>\n",
       "      <td>A</td>\n",
       "      <td>84</td>\n",
       "      <td>44.75</td>\n",
       "      <td>-2.043333</td>\n",
       "    </tr>\n",
       "    <tr>\n",
       "      <th>5</th>\n",
       "      <td>6</td>\n",
       "      <td>A</td>\n",
       "      <td>31</td>\n",
       "      <td>59.50</td>\n",
       "      <td>-16.793333</td>\n",
       "    </tr>\n",
       "    <tr>\n",
       "      <th>7</th>\n",
       "      <td>8</td>\n",
       "      <td>B</td>\n",
       "      <td>11</td>\n",
       "      <td>34.76</td>\n",
       "      <td>0.000000</td>\n",
       "    </tr>\n",
       "    <tr>\n",
       "      <th>3</th>\n",
       "      <td>4</td>\n",
       "      <td>C</td>\n",
       "      <td>33</td>\n",
       "      <td>40.76</td>\n",
       "      <td>5.190000</td>\n",
       "    </tr>\n",
       "    <tr>\n",
       "      <th>9</th>\n",
       "      <td>10</td>\n",
       "      <td>C</td>\n",
       "      <td>39</td>\n",
       "      <td>42.58</td>\n",
       "      <td>3.370000</td>\n",
       "    </tr>\n",
       "    <tr>\n",
       "      <th>0</th>\n",
       "      <td>1</td>\n",
       "      <td>C</td>\n",
       "      <td>84</td>\n",
       "      <td>44.19</td>\n",
       "      <td>1.760000</td>\n",
       "    </tr>\n",
       "    <tr>\n",
       "      <th>2</th>\n",
       "      <td>3</td>\n",
       "      <td>C</td>\n",
       "      <td>97</td>\n",
       "      <td>44.29</td>\n",
       "      <td>1.660000</td>\n",
       "    </tr>\n",
       "    <tr>\n",
       "      <th>8</th>\n",
       "      <td>9</td>\n",
       "      <td>C</td>\n",
       "      <td>97</td>\n",
       "      <td>45.72</td>\n",
       "      <td>0.230000</td>\n",
       "    </tr>\n",
       "    <tr>\n",
       "      <th>6</th>\n",
       "      <td>7</td>\n",
       "      <td>C</td>\n",
       "      <td>62</td>\n",
       "      <td>58.16</td>\n",
       "      <td>-12.210000</td>\n",
       "    </tr>\n",
       "  </tbody>\n",
       "</table>\n",
       "</div>"
      ],
      "text/plain": [
       "   ID Category  Value1  Value2  V2_diff_from_mean\n",
       "4   5        A      12   23.87          18.836667\n",
       "1   2        A      84   44.75          -2.043333\n",
       "5   6        A      31   59.50         -16.793333\n",
       "7   8        B      11   34.76           0.000000\n",
       "3   4        C      33   40.76           5.190000\n",
       "9  10        C      39   42.58           3.370000\n",
       "0   1        C      84   44.19           1.760000\n",
       "2   3        C      97   44.29           1.660000\n",
       "8   9        C      97   45.72           0.230000\n",
       "6   7        C      62   58.16         -12.210000"
      ]
     },
     "execution_count": 179,
     "metadata": {},
     "output_type": "execute_result"
    }
   ],
   "source": [
    "# we can use .transform() insteaad of .apply() to retain the original structure...\n",
    "\n",
    "# this is similar to when using mutate() with group_by() in R\n",
    "\n",
    "df2[\"V2_diff_from_mean\"] = df2.groupby(\"Category\")[\"Value2\"].transform(\"mean\") - df2[\"Value2\"]\n",
    "\n",
    "df2.sort_values(by = [\"Category\", \"Value2\"])"
   ]
  }
 ],
 "metadata": {
  "kernelspec": {
   "display_name": ".venv",
   "language": "python",
   "name": "python3"
  },
  "language_info": {
   "codemirror_mode": {
    "name": "ipython",
    "version": 3
   },
   "file_extension": ".py",
   "mimetype": "text/x-python",
   "name": "python",
   "nbconvert_exporter": "python",
   "pygments_lexer": "ipython3",
   "version": "3.13.3"
  }
 },
 "nbformat": 4,
 "nbformat_minor": 5
}
