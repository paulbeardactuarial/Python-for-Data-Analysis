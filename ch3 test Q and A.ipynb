{
 "cells": [
  {
   "cell_type": "code",
   "execution_count": 39,
   "id": "6548c418",
   "metadata": {},
   "outputs": [
    {
     "name": "stdout",
     "output_type": "stream",
     "text": [
      "True\n",
      "['APPLE', 'ORANGE', 'AVOCADO', 'EGGPLANT', 'ICE CREAM']\n"
     ]
    }
   ],
   "source": [
    "# Q1. Write a function that takes the following list of strings and returns a new list containing only the strings that start with a vowel, converted to uppercase:\n",
    "\n",
    "words = [\"apple\", \"banana\", \"orange\", \"pear\", \"grape\", \"avocado\", \"eggplant\", \"ice cream\"]\n",
    "\n",
    "# A1.\n",
    "\n",
    "test_word = words[1]\n",
    "\n",
    "out = test_word.startswith(('b', 'c'))\n",
    "print(out)\n",
    "\n",
    "def convert_words(words):\n",
    "    return [word.upper() for word in words if word.lower().startswith(('a', 'e', 'i', 'o', 'u'))]\n",
    "\n",
    "\n",
    "print(convert_words(words))\n",
    "\n"
   ]
  },
  {
   "cell_type": "code",
   "execution_count": null,
   "id": "b8604558",
   "metadata": {},
   "outputs": [
    {
     "data": {
      "text/plain": [
       "['Diana', 'Fiona']"
      ]
     },
     "execution_count": 80,
     "metadata": {},
     "output_type": "execute_result"
    }
   ],
   "source": [
    "\n",
    "#Q2\n",
    "\n",
    "# Given this dictionary of student test scores:\n",
    "\n",
    "pythonscores = {\n",
    "    \"Alice\": 87,\n",
    "    \"Bob\": 92,\n",
    "    \"Charlie\": 78,\n",
    "    \"Diana\": 95,\n",
    "    \"Evan\": 82,\n",
    "    \"Fiona\": 95,\n",
    "    \"George\": 91\n",
    "}\n",
    "# Write code to find and return the name(s) of the student(s) with the highest score. If multiple students have the same highest score, return all their names in a list.\n",
    "\n",
    "\n",
    "top_score = max(pythonscores.values())\n",
    "[key for key, value in pythonscores.items() if value == top_score]\n",
    "\n"
   ]
  },
  {
   "cell_type": "code",
   "execution_count": null,
   "id": "51214e5c",
   "metadata": {},
   "outputs": [
    {
     "data": {
      "text/plain": [
       "['Fiona', 'Diana', 'Charlie', 'Alice', 'Bob', 'Evan']"
      ]
     },
     "execution_count": 107,
     "metadata": {},
     "output_type": "execute_result"
    }
   ],
   "source": [
    "#Q3\n",
    "\n",
    "# You have the following list of dictionaries representing people:\n",
    "people = [\n",
    "    {\"name\": \"Alice\", \"age\": 25, \"height\": 165},\n",
    "    {\"name\": \"Bob\", \"age\": 30, \"height\": 180},\n",
    "    {\"name\": \"Charlie\", \"age\": 25, \"height\": 175},\n",
    "    {\"name\": \"Diana\", \"age\": 20, \"height\": 160},\n",
    "    {\"name\": \"Evan\", \"age\": 30, \"height\": 175},\n",
    "    {\"name\": \"Fiona\", \"age\": 20, \"height\": 165}\n",
    "]\n",
    "# Write code to sort this list first by age (youngest to oldest) and then by height (tallest to shortest) when ages are equal. Print the names in the resulting order.\n",
    "\n",
    "# people.sort(key = [dict.get('age') for dict in people])\n",
    "\n",
    "#people.sort(key = lambda x: x.get('height'), reverse=True)\n",
    "#people.sort(key = lambda x: x.get('age'))\n",
    "\n",
    "people = sorted(people, key = lambda x: (x['age'], -x['height']))\n",
    "[person['name'] for person in people]\n"
   ]
  },
  {
   "cell_type": "code",
   "execution_count": null,
   "id": "3a869c68",
   "metadata": {},
   "outputs": [
    {
     "data": {
      "text/plain": [
       "(381, 12, 42.333333333333336)"
      ]
     },
     "execution_count": 110,
     "metadata": {},
     "output_type": "execute_result"
    }
   ],
   "source": [
    "#Q4\n",
    "\n",
    "# Write a function that takes this list of integers and returns a tuple containing: the sum, the minimum value, the maximum value, and the average (mean) of the list:\n",
    "\n",
    "numbers = [23, 45, 12, 67, 89, 34, 12, 56, 43]\n",
    "\n",
    "def summary(numbers):\n",
    "    return sum(numbers), min(numbers), max(numbers), sum(numbers)/len(numbers)\n",
    "\n",
    "summary(numbers)"
   ]
  },
  {
   "cell_type": "code",
   "execution_count": 117,
   "id": "b9e06e6d",
   "metadata": {},
   "outputs": [
    {
     "data": {
      "text/plain": [
       "[5, 3, 7, 5]"
      ]
     },
     "execution_count": 117,
     "metadata": {},
     "output_type": "execute_result"
    }
   ],
   "source": [
    "# Question 5: Function Application with map\n",
    "# Complete this function that takes a list of strings and applies a given function to each element:\n",
    "\n",
    "def apply_function(string_list, func):\n",
    "    return [func(string) for string in string_list]\n",
    "\n",
    "# Then use it with the following inputs:\n",
    "names = [\"alice\", \"bob\", \"charlie\", \"diana\"]\n",
    "\n",
    "# Apply a function that returns the length of each string.\n",
    "# Apply a function that capitalizes each name.\n",
    "# Each function should be concise and use appropriate Python builtins rather than writing everything from scratch.\n",
    "apply_function(names, len)\n",
    "apply_function(names, str.capitalize)\n",
    "list(map(len, names))\n"
   ]
  }
 ],
 "metadata": {
  "kernelspec": {
   "display_name": ".venv",
   "language": "python",
   "name": "python3"
  },
  "language_info": {
   "codemirror_mode": {
    "name": "ipython",
    "version": 3
   },
   "file_extension": ".py",
   "mimetype": "text/x-python",
   "name": "python",
   "nbconvert_exporter": "python",
   "pygments_lexer": "ipython3",
   "version": "3.13.3"
  }
 },
 "nbformat": 4,
 "nbformat_minor": 5
}
