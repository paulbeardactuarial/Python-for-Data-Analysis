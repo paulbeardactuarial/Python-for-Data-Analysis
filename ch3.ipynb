{
 "cells": [
  {
   "cell_type": "code",
   "execution_count": 21,
   "id": "786d1cd1",
   "metadata": {},
   "outputs": [
    {
     "name": "stdout",
     "output_type": "stream",
     "text": [
      "Requirement already satisfied: polars in c:\\users\\paulb\\python\\python-for-data-analysis\\.venv\\lib\\site-packages (1.27.1)\n",
      "Requirement already satisfied: pandas in c:\\users\\paulb\\python\\python-for-data-analysis\\.venv\\lib\\site-packages (2.2.3)\n",
      "Requirement already satisfied: numpy>=1.26.0 in c:\\users\\paulb\\python\\python-for-data-analysis\\.venv\\lib\\site-packages (from pandas) (2.2.5)\n",
      "Requirement already satisfied: python-dateutil>=2.8.2 in c:\\users\\paulb\\python\\python-for-data-analysis\\.venv\\lib\\site-packages (from pandas) (2.9.0.post0)\n",
      "Requirement already satisfied: pytz>=2020.1 in c:\\users\\paulb\\python\\python-for-data-analysis\\.venv\\lib\\site-packages (from pandas) (2025.2)\n",
      "Requirement already satisfied: tzdata>=2022.7 in c:\\users\\paulb\\python\\python-for-data-analysis\\.venv\\lib\\site-packages (from pandas) (2025.2)\n",
      "Requirement already satisfied: six>=1.5 in c:\\users\\paulb\\python\\python-for-data-analysis\\.venv\\lib\\site-packages (from python-dateutil>=2.8.2->pandas) (1.17.0)\n",
      "Requirement already satisfied: numpy in c:\\users\\paulb\\python\\python-for-data-analysis\\.venv\\lib\\site-packages (2.2.5)\n"
     ]
    }
   ],
   "source": [
    "!pip install polars\n",
    "!pip install pandas\n",
    "!pip install numpy"
   ]
  },
  {
   "cell_type": "markdown",
   "id": "a2df28ea",
   "metadata": {},
   "source": [
    "## tuples"
   ]
  },
  {
   "cell_type": "code",
   "execution_count": null,
   "id": "6add177f",
   "metadata": {},
   "outputs": [
    {
     "data": {
      "text/plain": [
       "(5, 6)"
      ]
     },
     "execution_count": 42,
     "metadata": {},
     "output_type": "execute_result"
    }
   ],
   "source": [
    "# nested tupples\n",
    "\n",
    "tup = (1, 2, (7, 8)), (5, 6)\n",
    "\n",
    "a, b = tup\n",
    "\n",
    "b\n"
   ]
  },
  {
   "cell_type": "code",
   "execution_count": null,
   "id": "b1214609",
   "metadata": {},
   "outputs": [
    {
     "data": {
      "text/plain": [
       "1"
      ]
     },
     "execution_count": 51,
     "metadata": {},
     "output_type": "execute_result"
    }
   ],
   "source": [
    "values = 1, 2, 3, 4, 5\n",
    "\n",
    "# * can mean the remaining tupple is assigned to that variable\n",
    "a, b, *_ = values\n",
    "\n",
    "# in Python the _ is often used for unimportant parts\n",
    "_\n",
    "\n",
    "\n"
   ]
  },
  {
   "cell_type": "markdown",
   "id": "81300ae3",
   "metadata": {},
   "source": [
    "## Lists"
   ]
  },
  {
   "cell_type": "code",
   "execution_count": 55,
   "id": "6f0d8cd5",
   "metadata": {},
   "outputs": [
    {
     "data": {
      "text/plain": [
       "['a', 2, 'hello', 600, 'OK']"
      ]
     },
     "execution_count": 55,
     "metadata": {},
     "output_type": "execute_result"
    }
   ],
   "source": [
    "new_list = [\"a\", 2, \"hello\", 600]\n",
    "\n",
    "new_list.insert(4, \"OK\")\n",
    "\n",
    "new_list"
   ]
  },
  {
   "cell_type": "code",
   "execution_count": null,
   "id": "9f5e9ff0",
   "metadata": {},
   "outputs": [
    {
     "name": "stdout",
     "output_type": "stream",
     "text": [
      "[1, 2, 'a', 'b', 'c', 4, 5]\n"
     ]
    }
   ],
   "source": [
    "everything = []\n",
    "\n",
    "list_of_lists = [[1, 2], ['a', 'b', 'c'], [4, 5]]\n",
    "for chunk in list_of_lists:\n",
    "   everything.extend(chunk)\n",
    "\n",
    "print(everything)"
   ]
  },
  {
   "cell_type": "code",
   "execution_count": 81,
   "id": "63007280",
   "metadata": {},
   "outputs": [
    {
     "data": {
      "text/plain": [
       "[2, 5, 6, 1]"
      ]
     },
     "execution_count": 81,
     "metadata": {},
     "output_type": "execute_result"
    }
   ],
   "source": [
    "seq = [2, 5, 6, 1, 5]\n",
    "\n",
    "seq[::3]\n",
    "\n",
    "first = seq.pop(-1)\n",
    "seq"
   ]
  },
  {
   "cell_type": "markdown",
   "id": "b882fc5d",
   "metadata": {},
   "source": [
    "## dictionaries"
   ]
  },
  {
   "cell_type": "code",
   "execution_count": 100,
   "id": "e10f0669",
   "metadata": {},
   "outputs": [
    {
     "data": {
      "text/plain": [
       "('name3', 1000)"
      ]
     },
     "execution_count": 100,
     "metadata": {},
     "output_type": "execute_result"
    }
   ],
   "source": [
    "dict = {1:'a', 'name2':[1,2,3], 'name3':1000}\n",
    "\n",
    "dict.pop('name2')\n",
    "\n",
    "third = dict.popitem()\n",
    "\n",
    "third"
   ]
  }
 ],
 "metadata": {
  "kernelspec": {
   "display_name": ".venv",
   "language": "python",
   "name": "python3"
  },
  "language_info": {
   "codemirror_mode": {
    "name": "ipython",
    "version": 3
   },
   "file_extension": ".py",
   "mimetype": "text/x-python",
   "name": "python",
   "nbconvert_exporter": "python",
   "pygments_lexer": "ipython3",
   "version": "3.13.3"
  }
 },
 "nbformat": 4,
 "nbformat_minor": 5
}
