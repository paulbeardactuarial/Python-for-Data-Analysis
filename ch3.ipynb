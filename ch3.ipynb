{
 "cells": [
  {
   "cell_type": "code",
   "execution_count": 189,
   "id": "786d1cd1",
   "metadata": {},
   "outputs": [
    {
     "name": "stdout",
     "output_type": "stream",
     "text": [
      "Requirement already satisfied: polars in c:\\users\\paulb\\python\\python-for-data-analysis\\.venv\\lib\\site-packages (1.27.1)\n"
     ]
    },
    {
     "name": "stderr",
     "output_type": "stream",
     "text": [
      "\n",
      "[notice] A new release of pip is available: 25.0.1 -> 25.1\n",
      "[notice] To update, run: python.exe -m pip install --upgrade pip\n"
     ]
    },
    {
     "name": "stdout",
     "output_type": "stream",
     "text": [
      "Requirement already satisfied: pandas in c:\\users\\paulb\\python\\python-for-data-analysis\\.venv\\lib\\site-packages (2.2.3)\n",
      "Requirement already satisfied: numpy>=1.26.0 in c:\\users\\paulb\\python\\python-for-data-analysis\\.venv\\lib\\site-packages (from pandas) (2.2.5)\n",
      "Requirement already satisfied: python-dateutil>=2.8.2 in c:\\users\\paulb\\python\\python-for-data-analysis\\.venv\\lib\\site-packages (from pandas) (2.9.0.post0)\n",
      "Requirement already satisfied: pytz>=2020.1 in c:\\users\\paulb\\python\\python-for-data-analysis\\.venv\\lib\\site-packages (from pandas) (2025.2)\n",
      "Requirement already satisfied: tzdata>=2022.7 in c:\\users\\paulb\\python\\python-for-data-analysis\\.venv\\lib\\site-packages (from pandas) (2025.2)\n",
      "Requirement already satisfied: six>=1.5 in c:\\users\\paulb\\python\\python-for-data-analysis\\.venv\\lib\\site-packages (from python-dateutil>=2.8.2->pandas) (1.17.0)\n"
     ]
    },
    {
     "name": "stderr",
     "output_type": "stream",
     "text": [
      "\n",
      "[notice] A new release of pip is available: 25.0.1 -> 25.1\n",
      "[notice] To update, run: python.exe -m pip install --upgrade pip\n"
     ]
    },
    {
     "name": "stdout",
     "output_type": "stream",
     "text": [
      "Requirement already satisfied: numpy in c:\\users\\paulb\\python\\python-for-data-analysis\\.venv\\lib\\site-packages (2.2.5)\n"
     ]
    },
    {
     "name": "stderr",
     "output_type": "stream",
     "text": [
      "\n",
      "[notice] A new release of pip is available: 25.0.1 -> 25.1\n",
      "[notice] To update, run: python.exe -m pip install --upgrade pip\n"
     ]
    },
    {
     "name": "stdout",
     "output_type": "stream",
     "text": [
      "Requirement already satisfied: stats in c:\\users\\paulb\\python\\python-for-data-analysis\\.venv\\lib\\site-packages (0.1.2a0)\n"
     ]
    },
    {
     "name": "stderr",
     "output_type": "stream",
     "text": [
      "\n",
      "[notice] A new release of pip is available: 25.0.1 -> 25.1\n",
      "[notice] To update, run: python.exe -m pip install --upgrade pip\n"
     ]
    },
    {
     "name": "stdout",
     "output_type": "stream",
     "text": [
      "Collecting matplotlib\n",
      "  Downloading matplotlib-3.10.1-cp313-cp313-win_amd64.whl.metadata (11 kB)\n",
      "Collecting contourpy>=1.0.1 (from matplotlib)\n",
      "  Downloading contourpy-1.3.2-cp313-cp313-win_amd64.whl.metadata (5.5 kB)\n",
      "Collecting cycler>=0.10 (from matplotlib)\n",
      "  Downloading cycler-0.12.1-py3-none-any.whl.metadata (3.8 kB)\n",
      "Collecting fonttools>=4.22.0 (from matplotlib)\n",
      "  Downloading fonttools-4.57.0-cp313-cp313-win_amd64.whl.metadata (104 kB)\n",
      "Collecting kiwisolver>=1.3.1 (from matplotlib)\n",
      "  Downloading kiwisolver-1.4.8-cp313-cp313-win_amd64.whl.metadata (6.3 kB)\n",
      "Requirement already satisfied: numpy>=1.23 in c:\\users\\paulb\\python\\python-for-data-analysis\\.venv\\lib\\site-packages (from matplotlib) (2.2.5)\n",
      "Requirement already satisfied: packaging>=20.0 in c:\\users\\paulb\\python\\python-for-data-analysis\\.venv\\lib\\site-packages (from matplotlib) (25.0)\n",
      "Collecting pillow>=8 (from matplotlib)\n",
      "  Downloading pillow-11.2.1-cp313-cp313-win_amd64.whl.metadata (9.1 kB)\n",
      "Collecting pyparsing>=2.3.1 (from matplotlib)\n",
      "  Downloading pyparsing-3.2.3-py3-none-any.whl.metadata (5.0 kB)\n",
      "Requirement already satisfied: python-dateutil>=2.7 in c:\\users\\paulb\\python\\python-for-data-analysis\\.venv\\lib\\site-packages (from matplotlib) (2.9.0.post0)\n",
      "Requirement already satisfied: six>=1.5 in c:\\users\\paulb\\python\\python-for-data-analysis\\.venv\\lib\\site-packages (from python-dateutil>=2.7->matplotlib) (1.17.0)\n",
      "Downloading matplotlib-3.10.1-cp313-cp313-win_amd64.whl (8.1 MB)\n",
      "   ---------------------------------------- 0.0/8.1 MB ? eta -:--:--\n",
      "   ------- -------------------------------- 1.6/8.1 MB 9.3 MB/s eta 0:00:01\n",
      "   --------------------------- ------------ 5.5/8.1 MB 14.0 MB/s eta 0:00:01\n",
      "   ---------------------------------------- 8.1/8.1 MB 14.4 MB/s eta 0:00:00\n",
      "Downloading contourpy-1.3.2-cp313-cp313-win_amd64.whl (223 kB)\n",
      "Downloading cycler-0.12.1-py3-none-any.whl (8.3 kB)\n",
      "Downloading fonttools-4.57.0-cp313-cp313-win_amd64.whl (2.2 MB)\n",
      "   ---------------------------------------- 0.0/2.2 MB ? eta -:--:--\n",
      "   ---------------------------------------- 2.2/2.2 MB 15.9 MB/s eta 0:00:00\n",
      "Downloading kiwisolver-1.4.8-cp313-cp313-win_amd64.whl (71 kB)\n",
      "Downloading pillow-11.2.1-cp313-cp313-win_amd64.whl (2.7 MB)\n",
      "   ---------------------------------------- 0.0/2.7 MB ? eta -:--:--\n",
      "   ----------------------------------- ---- 2.4/2.7 MB 12.8 MB/s eta 0:00:01\n",
      "   ----------------------------------- ---- 2.4/2.7 MB 12.8 MB/s eta 0:00:01\n",
      "   ---------------------------------------- 2.7/2.7 MB 5.2 MB/s eta 0:00:00\n",
      "Downloading pyparsing-3.2.3-py3-none-any.whl (111 kB)\n",
      "Installing collected packages: pyparsing, pillow, kiwisolver, fonttools, cycler, contourpy, matplotlib\n",
      "Successfully installed contourpy-1.3.2 cycler-0.12.1 fonttools-4.57.0 kiwisolver-1.4.8 matplotlib-3.10.1 pillow-11.2.1 pyparsing-3.2.3\n"
     ]
    },
    {
     "name": "stderr",
     "output_type": "stream",
     "text": [
      "\n",
      "[notice] A new release of pip is available: 25.0.1 -> 25.1\n",
      "[notice] To update, run: python.exe -m pip install --upgrade pip\n"
     ]
    }
   ],
   "source": [
    "!pip install polars\n",
    "!pip install pandas\n",
    "!pip install numpy\n",
    "!pip install stats\n",
    "!pip install matplotlib"
   ]
  },
  {
   "cell_type": "markdown",
   "id": "a2df28ea",
   "metadata": {},
   "source": [
    "## tuples"
   ]
  },
  {
   "cell_type": "code",
   "execution_count": 91,
   "id": "6add177f",
   "metadata": {},
   "outputs": [
    {
     "data": {
      "text/plain": [
       "(5, 6)"
      ]
     },
     "execution_count": 91,
     "metadata": {},
     "output_type": "execute_result"
    }
   ],
   "source": [
    "# nested tupples\n",
    "\n",
    "tup = (1, 2, (7, 8)), (5, 6)\n",
    "\n",
    "a, b = tup\n",
    "\n",
    "b\n"
   ]
  },
  {
   "cell_type": "code",
   "execution_count": 92,
   "id": "b1214609",
   "metadata": {},
   "outputs": [
    {
     "data": {
      "text/plain": [
       "[3, 4, 5]"
      ]
     },
     "execution_count": 92,
     "metadata": {},
     "output_type": "execute_result"
    }
   ],
   "source": [
    "values = 1, 2, 3, 4, 5\n",
    "\n",
    "# * can mean the remaining tupple is assigned to that variable\n",
    "a, b, *_ = values\n",
    "\n",
    "# in Python the _ is often used for unimportant parts\n",
    "_\n",
    "\n",
    "\n"
   ]
  },
  {
   "cell_type": "markdown",
   "id": "81300ae3",
   "metadata": {},
   "source": [
    "## Lists"
   ]
  },
  {
   "cell_type": "code",
   "execution_count": 93,
   "id": "6f0d8cd5",
   "metadata": {},
   "outputs": [
    {
     "data": {
      "text/plain": [
       "['a', 2, 'hello', 600, 'OK']"
      ]
     },
     "execution_count": 93,
     "metadata": {},
     "output_type": "execute_result"
    }
   ],
   "source": [
    "new_list = [\"a\", 2, \"hello\", 600]\n",
    "\n",
    "new_list.insert(4, \"OK\")\n",
    "\n",
    "new_list"
   ]
  },
  {
   "cell_type": "code",
   "execution_count": 94,
   "id": "9f5e9ff0",
   "metadata": {},
   "outputs": [
    {
     "name": "stdout",
     "output_type": "stream",
     "text": [
      "[1, 2, 'a', 'b', 'c', 4, 5]\n"
     ]
    }
   ],
   "source": [
    "everything = []\n",
    "\n",
    "list_of_lists = [[1, 2], ['a', 'b', 'c'], [4, 5]]\n",
    "for chunk in list_of_lists:\n",
    "   everything.extend(chunk)\n",
    "\n",
    "print(everything)"
   ]
  },
  {
   "cell_type": "code",
   "execution_count": 95,
   "id": "63007280",
   "metadata": {},
   "outputs": [
    {
     "data": {
      "text/plain": [
       "[2, 5, 6, 1]"
      ]
     },
     "execution_count": 95,
     "metadata": {},
     "output_type": "execute_result"
    }
   ],
   "source": [
    "seq = [2, 5, 6, 1, 5]\n",
    "\n",
    "seq[::3]\n",
    "\n",
    "first = seq.pop(-1)\n",
    "seq"
   ]
  },
  {
   "cell_type": "markdown",
   "id": "b882fc5d",
   "metadata": {},
   "source": [
    "## dictionaries"
   ]
  },
  {
   "cell_type": "code",
   "execution_count": 96,
   "id": "e10f0669",
   "metadata": {},
   "outputs": [
    {
     "data": {
      "text/plain": [
       "('name3', 1000)"
      ]
     },
     "execution_count": 96,
     "metadata": {},
     "output_type": "execute_result"
    }
   ],
   "source": [
    "dicto = {1:'a', 'name2':[1,2,3], 'name3':1000}\n",
    "\n",
    "dicto.pop('name2')\n",
    "\n",
    "third = dicto.popitem()\n",
    "\n",
    "third\n"
   ]
  },
  {
   "cell_type": "code",
   "execution_count": 97,
   "id": "0b6d68f8",
   "metadata": {},
   "outputs": [
    {
     "data": {
      "text/plain": [
       "{'a': 1, 'z': 2, 'd': 4}"
      ]
     },
     "execution_count": 97,
     "metadata": {},
     "output_type": "execute_result"
    }
   ],
   "source": [
    "# creating a dictionary from 2 lists \n",
    "\n",
    "key_list = ['a', 'z', 'd']\n",
    "value_list = [1, 2, 4]\n",
    "zipped_list = zip(key_list, value_list)\n",
    "\n",
    "new_dict = {}\n",
    "for (a, b) in zipped_list:\n",
    "    new_dict.update({a:b})\n",
    "\n",
    "new_dict\n"
   ]
  },
  {
   "cell_type": "code",
   "execution_count": 98,
   "id": "75c54859",
   "metadata": {},
   "outputs": [
    {
     "data": {
      "text/plain": [
       "{'a': 0, 'z': 1, 'd': 2}"
      ]
     },
     "execution_count": 98,
     "metadata": {},
     "output_type": "execute_result"
    }
   ],
   "source": [
    "{k:i for i, k in enumerate(key_list)}"
   ]
  },
  {
   "cell_type": "code",
   "execution_count": 99,
   "id": "ca01268a",
   "metadata": {},
   "outputs": [
    {
     "data": {
      "text/plain": [
       "['bat', 'bar', 'book']"
      ]
     },
     "execution_count": 99,
     "metadata": {},
     "output_type": "execute_result"
    }
   ],
   "source": [
    "words = [\"apple\", \"bat\", \"bar\", \"atom\", \"book\", \"camera\"]\n",
    "\n",
    "word_dict = {}\n",
    "\n",
    "for word in words:\n",
    "    letter = word[0]\n",
    "    word_dict.setdefault(letter, []).append(word)\n",
    "\n",
    "bee = word_dict.pop('b')\n",
    "\n",
    "bee\n",
    "\n"
   ]
  },
  {
   "cell_type": "code",
   "execution_count": 100,
   "id": "02762aa3",
   "metadata": {},
   "outputs": [
    {
     "ename": "TypeError",
     "evalue": "'enumerate' object is not subscriptable",
     "output_type": "error",
     "traceback": [
      "\u001b[31m---------------------------------------------------------------------------\u001b[39m",
      "\u001b[31mTypeError\u001b[39m                                 Traceback (most recent call last)",
      "\u001b[36mCell\u001b[39m\u001b[36m \u001b[39m\u001b[32mIn[100]\u001b[39m\u001b[32m, line 7\u001b[39m\n\u001b[32m      3\u001b[39m [\u001b[38;5;28mlen\u001b[39m(y) \u001b[38;5;28;01mfor\u001b[39;00m y \u001b[38;5;129;01min\u001b[39;00m word_dict]\n\u001b[32m      5\u001b[39m no_dict = \u001b[38;5;28menumerate\u001b[39m(word_dict)\n\u001b[32m----> \u001b[39m\u001b[32m7\u001b[39m \u001b[43mno_dict\u001b[49m\u001b[43m[\u001b[49m\u001b[33;43m'\u001b[39;49m\u001b[33;43m2\u001b[39;49m\u001b[33;43m'\u001b[39;49m\u001b[43m]\u001b[49m\n",
      "\u001b[31mTypeError\u001b[39m: 'enumerate' object is not subscriptable"
     ]
    }
   ],
   "source": [
    "# getting a function to apply over a list\n",
    "\n",
    "[len(y) for y in word_dict]\n",
    "\n",
    "no_dict = enumerate(word_dict)\n",
    "\n",
    "no_dict['2']"
   ]
  },
  {
   "cell_type": "code",
   "execution_count": 132,
   "id": "cc808c21",
   "metadata": {},
   "outputs": [
    {
     "data": {
      "text/plain": [
       "['aa', 'vvv', 'abcd', 'bbbab']"
      ]
     },
     "execution_count": 132,
     "metadata": {},
     "output_type": "execute_result"
    }
   ],
   "source": [
    "def paul_function(a, b, c):\n",
    "    d = a + b - c\n",
    "    return d\n",
    "\n",
    "paul_function(1,2,3)\n",
    "\n",
    "import re\n",
    "\n",
    "strings = ['aa', 'bbbab', 'vvv', 'abcd']\n",
    "\n",
    "\n",
    "strings.sort(key = lambda x: len(set(x)))\n",
    "strings.sort(key = lambda y: str.count(y, \"b\"))\n",
    "strings\n"
   ]
  },
  {
   "cell_type": "code",
   "execution_count": 133,
   "id": "24d51c63",
   "metadata": {},
   "outputs": [
    {
     "data": {
      "text/plain": [
       "['aa', 'vvv', 'abcd', 'bbbab']"
      ]
     },
     "execution_count": 133,
     "metadata": {},
     "output_type": "execute_result"
    }
   ],
   "source": [
    "map(str.capitalize, strings)\n",
    "\n",
    "strings"
   ]
  },
  {
   "cell_type": "code",
   "execution_count": 134,
   "id": "1e438d12",
   "metadata": {},
   "outputs": [
    {
     "data": {
      "text/plain": [
       "['Aa',\n",
       " 'Vvv',\n",
       " 'Abcd',\n",
       " 'Bbbab',\n",
       " 'a',\n",
       " 'vvv',\n",
       " 'abcd',\n",
       " 'bbbab',\n",
       " 'aa',\n",
       " 'vvv',\n",
       " 'abcd',\n",
       " 'bbbab',\n",
       " 2,\n",
       " 0,\n",
       " 1,\n",
       " 1,\n",
       " 0,\n",
       " 0,\n",
       " 1,\n",
       " 4]"
      ]
     },
     "execution_count": 134,
     "metadata": {},
     "output_type": "execute_result"
    }
   ],
   "source": [
    "# using functions as objects\n",
    "\n",
    "functions_for_strings = [str.capitalize, lambda x: str.removesuffix(x, \"a\"), str.casefold, lambda x: str.count(x, \"a\"), lambda x: str.count(x, \"b\")]\n",
    "\n",
    "[funky(string) for funky in functions_for_strings for string in strings]\n"
   ]
  },
  {
   "cell_type": "code",
   "execution_count": null,
   "id": "d8877565",
   "metadata": {},
   "outputs": [
    {
     "ename": "TypeError",
     "evalue": "'str' object is not callable",
     "output_type": "error",
     "traceback": [
      "\u001b[31m---------------------------------------------------------------------------\u001b[39m",
      "\u001b[31mTypeError\u001b[39m                                 Traceback (most recent call last)",
      "\u001b[36mCell\u001b[39m\u001b[36m \u001b[39m\u001b[32mIn[163]\u001b[39m\u001b[32m, line 5\u001b[39m\n\u001b[32m      1\u001b[39m \u001b[38;5;66;03m# generator \u001b[39;00m\n\u001b[32m      3\u001b[39m first_letter_gen = (x[\u001b[32m0\u001b[39m] \u001b[38;5;28;01mfor\u001b[39;00m x \u001b[38;5;129;01min\u001b[39;00m strings)\n\u001b[32m----> \u001b[39m\u001b[32m5\u001b[39m \u001b[43m[\u001b[49m\u001b[43mx\u001b[49m\u001b[43m \u001b[49m\u001b[38;5;28;43;01mfor\u001b[39;49;00m\u001b[43m \u001b[49m\u001b[43mx\u001b[49m\u001b[43m \u001b[49m\u001b[38;5;129;43;01min\u001b[39;49;00m\u001b[43m \u001b[49m\u001b[43mout\u001b[49m\u001b[43m]\u001b[49m\n",
      "\u001b[31mTypeError\u001b[39m: 'str' object is not callable"
     ]
    }
   ],
   "source": [
    "# generator \n",
    "import itertools as it\n",
    "\n",
    "first_letter_gen = (x[0] for x in strings)\n",
    "\n",
    "list(it.islice(first_letter_gen, 0, 2))\n",
    "\n",
    "out = it.accumulate([True, False, True], '&')\n",
    "\n",
    "[x for x in out]"
   ]
  },
  {
   "cell_type": "code",
   "execution_count": null,
   "id": "d684e322",
   "metadata": {},
   "outputs": [
    {
     "data": {
      "text/plain": [
       "<itertools.groupby at 0x1c19e097880>"
      ]
     },
     "execution_count": 187,
     "metadata": {},
     "output_type": "execute_result"
    }
   ],
   "source": [
    "# generate dictionary grouped by first letter\n",
    "import itertools as it\n",
    "\n",
    "names = [\"Alan\", \"Adam\", \"Wes\", \"Will\", \"Albert\", \"Steven\"]\n",
    "\n",
    "def first_letter_f(str):\n",
    "    return str[0]\n",
    "\n",
    "def last_letter_f(str):\n",
    "    return str[-1]\n",
    "\n",
    "names.sort()\n",
    "itout = it.groupby(names, first_letter_f)\n",
    "\n",
    "itout\n",
    "#[i for i in itout[1]]\n",
    "\n"
   ]
  }
 ],
 "metadata": {
  "kernelspec": {
   "display_name": ".venv",
   "language": "python",
   "name": "python3"
  },
  "language_info": {
   "codemirror_mode": {
    "name": "ipython",
    "version": 3
   },
   "file_extension": ".py",
   "mimetype": "text/x-python",
   "name": "python",
   "nbconvert_exporter": "python",
   "pygments_lexer": "ipython3",
   "version": "3.13.3"
  }
 },
 "nbformat": 4,
 "nbformat_minor": 5
}
