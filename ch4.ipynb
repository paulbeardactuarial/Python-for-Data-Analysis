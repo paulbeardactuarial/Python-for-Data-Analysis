{
 "cells": [
  {
   "cell_type": "code",
   "execution_count": null,
   "id": "f2ed3996",
   "metadata": {},
   "outputs": [
    {
     "data": {
      "text/plain": [
       "array([[0, 0, 0, 0, 0, 0, 0, 0, 0, 0],\n",
       "       [0, 0, 0, 0, 0, 0, 0, 0, 0, 0]])"
      ]
     },
     "execution_count": 37,
     "metadata": {},
     "output_type": "execute_result"
    }
   ],
   "source": [
    "# basic numpy arrays\n",
    "\n",
    "import numpy as np\n",
    "\n",
    "nu_range = range(0,10), range(1,11)\n",
    "\n",
    "number_set = np.array(nu_range)\n",
    "\n",
    "number_set.fill(3)\n",
    "\n",
    "zero_set = np.zeros_like(number_set)\n",
    "\n",
    "zero_set"
   ]
  },
  {
   "cell_type": "code",
   "execution_count": 60,
   "id": "06d2d672",
   "metadata": {},
   "outputs": [
    {
     "data": {
      "text/plain": [
       "array([[[  1, 999,   3],\n",
       "        [  4, 999,   6]],\n",
       "\n",
       "       [[ 10,   2,   3],\n",
       "        [  4,  50,   6]]])"
      ]
     },
     "execution_count": 60,
     "metadata": {},
     "output_type": "execute_result"
    }
   ],
   "source": [
    "# numpy dimensions and referecnes\n",
    "\n",
    "array3d = np.array(\n",
    "    [[[1, 2, 3],\n",
    "    [4, 5, 6]],\n",
    "    [[10, 2, 3],\n",
    "    [4, 50, 6]]]\n",
    ")\n",
    "\n",
    "# we can assign subsections to another object which is still linked instead of copied\n",
    "array_sub = array3d[0, : ,1] # note the indexing for 3d array is each layer\n",
    "\n",
    "array_sub[:] = 999 # don't forget we must use square brackets \n",
    "\n",
    "array3d\n",
    "\n",
    "\n",
    "# to copy we would use 'array3d.copy()'\n",
    "\n"
   ]
  },
  {
   "cell_type": "code",
   "execution_count": null,
   "id": "bfa315d2",
   "metadata": {},
   "outputs": [
    {
     "data": {
      "text/plain": [
       "array([7, 6, 0, 2])"
      ]
     },
     "execution_count": 83,
     "metadata": {},
     "output_type": "execute_result"
    }
   ],
   "source": [
    "names = np.array([\"Bob\", \"Joe\", \"Will\", \"Bob\", \"Will\", \"Joe\", \"Joe\"])\n",
    "\n",
    "data = np.array([[4, 7], [0, 2], [-5, 6], [0, 0], [1, 2], [12, -4], [3, 4]])\n",
    "\n",
    "chosen_names = (names == \"Bob\") | (names == \"Will\")\n",
    "\n",
    "data[chosen_names, 1]\n",
    "\n",
    "# in general indexing in numpy is very similar to indexing in base R\n"
   ]
  },
  {
   "cell_type": "code",
   "execution_count": null,
   "id": "3451f849",
   "metadata": {},
   "outputs": [
    {
     "data": {
      "text/plain": [
       "array([[   0., -999.,    0.,    0.],\n",
       "       [   1.,    1.,    1.,    1.],\n",
       "       [-999.,    2.,    2.,    2.],\n",
       "       [   3.,    3.,    3.,    3.],\n",
       "       [   4.,    4.,    4., -999.],\n",
       "       [   5.,    5.,    5.,    5.],\n",
       "       [   6.,    6.,    6.,    6.],\n",
       "       [   7.,    7.,    7.,    7.]])"
      ]
     },
     "execution_count": 112,
     "metadata": {},
     "output_type": "execute_result"
    }
   ],
   "source": [
    "# fancy indexing\n",
    "\n",
    "arr = np.zeros((8, 4))\n",
    "\n",
    "for i in range(8):\n",
    "    arr[i] = i\n",
    "\n",
    "arr[[0, 2, 4], [1, 0, -1]] = -999\n",
    "\n",
    "arr\n",
    "\n",
    "# note when fancy indexing this will automatically create a copy, unlike the slicing before\n",
    "\n",
    "chosen_subset = arr[[1, 2], [2, 1]]\n",
    "chosen_subset[:] = -888\n",
    "arr # array unchanged!"
   ]
  },
  {
   "cell_type": "code",
   "execution_count": null,
   "id": "327ecbb6",
   "metadata": {},
   "outputs": [
    {
     "data": {
      "text/plain": [
       "array([[0, 1],\n",
       "       [2, 3],\n",
       "       [4, 5],\n",
       "       [6, 7],\n",
       "       [8, 9]])"
      ]
     },
     "execution_count": 109,
     "metadata": {},
     "output_type": "execute_result"
    }
   ],
   "source": [
    "# reshape\n",
    "\n",
    "np.array(range(10)).reshape(5,2)\n"
   ]
  },
  {
   "cell_type": "code",
   "execution_count": 119,
   "id": "7b9c5790",
   "metadata": {},
   "outputs": [
    {
     "data": {
      "text/plain": [
       "array([[   0., -999.,    0.,    0.],\n",
       "       [   1.,    1.,    1.,    1.],\n",
       "       [-999.,    2.,    2.,    2.],\n",
       "       [   3.,    3.,    3.,    3.],\n",
       "       [   4.,    4.,    4., -999.],\n",
       "       [   5.,    5.,    5.,    5.],\n",
       "       [   6.,    6.,    6.,    6.],\n",
       "       [   7.,    7.,    7.,    7.]])"
      ]
     },
     "execution_count": 119,
     "metadata": {},
     "output_type": "execute_result"
    }
   ],
   "source": [
    "arr.swapaxes(0, 1)\n",
    "arr"
   ]
  },
  {
   "cell_type": "code",
   "execution_count": 131,
   "id": "61095394",
   "metadata": {},
   "outputs": [
    {
     "data": {
      "text/plain": [
       "array([[   5.,    5.,    5.,    5.],\n",
       "       [   4.,    4.,    4., -999.],\n",
       "       [-999.,    2.,    2.,    2.],\n",
       "       [   3.,    3.,    3.,    3.],\n",
       "       [   0., -999.,    0.,    0.],\n",
       "       [   7.,    7.,    7.,    7.],\n",
       "       [   6.,    6.,    6.,    6.],\n",
       "       [   1.,    1.,    1.,    1.]])"
      ]
     },
     "execution_count": 131,
     "metadata": {},
     "output_type": "execute_result"
    }
   ],
   "source": [
    "np.random.shuffle(arr)\n",
    "arr"
   ]
  },
  {
   "cell_type": "code",
   "execution_count": null,
   "id": "47477eed",
   "metadata": {},
   "outputs": [
    {
     "ename": "AttributeError",
     "evalue": "'numpy.bool' object has no attribute 'print'",
     "output_type": "error",
     "traceback": [
      "\u001b[31m---------------------------------------------------------------------------\u001b[39m",
      "\u001b[31mAttributeError\u001b[39m                            Traceback (most recent call last)",
      "\u001b[36mCell\u001b[39m\u001b[36m \u001b[39m\u001b[32mIn[153]\u001b[39m\u001b[32m, line 10\u001b[39m\n\u001b[32m      7\u001b[39m cond = np.array([\u001b[38;5;28;01mTrue\u001b[39;00m, \u001b[38;5;28;01mFalse\u001b[39;00m, \u001b[38;5;28;01mTrue\u001b[39;00m, \u001b[38;5;28;01mTrue\u001b[39;00m, \u001b[38;5;28;01mFalse\u001b[39;00m])\n\u001b[32m      9\u001b[39m cond.all()\n\u001b[32m---> \u001b[39m\u001b[32m10\u001b[39m \u001b[43mcond\u001b[49m\u001b[43m.\u001b[49m\u001b[43many\u001b[49m\u001b[43m(\u001b[49m\u001b[43m)\u001b[49m\u001b[43m.\u001b[49m\u001b[43mprint\u001b[49m()\n\u001b[32m     12\u001b[39m combined_arr = np.where( \u001b[38;5;66;03m# <-- this is essntially dplyr::if_else()\u001b[39;00m\n\u001b[32m     13\u001b[39m     cond,\n\u001b[32m     14\u001b[39m     xarr,\n\u001b[32m     15\u001b[39m     yarr\n\u001b[32m     16\u001b[39m )\n\u001b[32m     18\u001b[39m np.minimum(np.maximum(combined_arr, \u001b[32m1.25\u001b[39m), \u001b[32m2.25\u001b[39m)\n",
      "\u001b[31mAttributeError\u001b[39m: 'numpy.bool' object has no attribute 'print'"
     ]
    }
   ],
   "source": [
    "# vctorised logic\n",
    "\n",
    "xarr = np.array([1.1, 1.2, 1.3, 1.4, 1.5])\n",
    "\n",
    "yarr = np.array([3.1, 2.2, 2.3, 2.4, 2.5])\n",
    "\n",
    "cond = np.array([True, False, True, True, False])\n",
    "\n",
    "cond.all()\n",
    "cond.any()\n",
    "\n",
    "combined_arr = np.where( # <-- this is essntially dplyr::if_else()\n",
    "    cond,\n",
    "    xarr,\n",
    "    yarr\n",
    ")\n",
    "\n",
    "np.minimum(np.maximum(combined_arr, 1.25), 2.25)\n",
    "\n",
    "\n",
    "xarr[yarr.argsort()] # arrange the x values in order of the y values\n"
   ]
  },
  {
   "cell_type": "code",
   "execution_count": null,
   "id": "0a05afdf",
   "metadata": {},
   "outputs": [
    {
     "data": {
      "text/plain": [
       "-0.37497963815215807"
      ]
     },
     "execution_count": 186,
     "metadata": {},
     "output_type": "execute_result"
    }
   ],
   "source": [
    "# fitting a linear equation\n",
    "\n",
    "import stats\n",
    "\n",
    "x_values = np.array([1, 2, 3, 4])\n",
    "y_values = np.random.normal(0, 1, 4) - x_values\n",
    "\n",
    "y_values\n",
    "c, m = stats.linr(x_values, y_values)\n",
    "\n",
    "m"
   ]
  },
  {
   "cell_type": "code",
   "execution_count": 215,
   "id": "fcfc2072",
   "metadata": {},
   "outputs": [
    {
     "data": {
      "text/plain": [
       "array([-20.54349852, -18.93256152])"
      ]
     },
     "execution_count": 215,
     "metadata": {},
     "output_type": "execute_result"
    },
    {
     "data": {
      "image/png": "[encoded data removed]",
      "text/plain": [
       "<Figure size 640x480 with 1 Axes>"
      ]
     },
     "metadata": {},
     "output_type": "display_data"
    }
   ],
   "source": [
    "# making a random walk\n",
    "\n",
    "import matplotlib.pyplot  as plt\n",
    "\n",
    "r_gen = np.random.default_rng(42)\n",
    "\n",
    "step = r_gen.standard_normal(1000)\n",
    "\n",
    "walk = step.cumsum()\n",
    "\n",
    "walk.min()\n",
    "walk.max()\n",
    "\n",
    "plt.plot(walk[600:700])\n",
    "\n",
    "# first time dipped outside +-20...\n",
    "(abs(walk) > 20).argmax()\n",
    "\n",
    "walk[629:631]"
   ]
  },
  {
   "cell_type": "code",
   "execution_count": null,
   "id": "e29f934b",
   "metadata": {},
   "outputs": [
    {
     "data": {
      "text/plain": [
       "np.float64(379.135593220339)"
      ]
     },
     "execution_count": 285,
     "metadata": {},
     "output_type": "execute_result"
    }
   ],
   "source": [
    "# doing many random walks at the same time\n",
    "\n",
    "no_walks = 75\n",
    "no_steps = 1000\n",
    "\n",
    "rng = np.random.default_rng(seed=1)\n",
    "\n",
    "steps = rng.integers(-1, 2, size = (no_walks, no_steps))\n",
    "\n",
    "walks = steps.cumsum(axis = 1)\n",
    "\n",
    "over_20 = (abs(walks) > 20).any(axis=1)\n",
    "(abs(walks[over_20]) > 20).argmax(axis = 1).mean()\n"
   ]
  }
 ],
 "metadata": {
  "kernelspec": {
   "display_name": ".venv",
   "language": "python",
   "name": "python3"
  },
  "language_info": {
   "codemirror_mode": {
    "name": "ipython",
    "version": 3
   },
   "file_extension": ".py",
   "mimetype": "text/x-python",
   "name": "python",
   "nbconvert_exporter": "python",
   "pygments_lexer": "ipython3",
   "version": "3.13.3"
  }
 },
 "nbformat": 4,
 "nbformat_minor": 5
}
