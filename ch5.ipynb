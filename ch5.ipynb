{
 "cells": [
  {
   "cell_type": "code",
   "execution_count": 66,
   "id": "8c662183",
   "metadata": {},
   "outputs": [],
   "source": [
    "import pandas as pd\n",
    "import numpy as np"
   ]
  },
  {
   "cell_type": "code",
   "execution_count": null,
   "id": "38db4757",
   "metadata": {},
   "outputs": [
    {
     "data": {
      "text/plain": [
       "0     1\n",
       "1     2\n",
       "1     3\n",
       "2     4\n",
       "3     8\n",
       "4    16\n",
       "dtype: object"
      ]
     },
     "execution_count": 18,
     "metadata": {},
     "output_type": "execute_result"
    }
   ],
   "source": [
    "example_series = pd.Series([1,[2,3],4,8,16])\n",
    "\n",
    "example_series.explode()"
   ]
  },
  {
   "cell_type": "code",
   "execution_count": 93,
   "id": "173c55f6",
   "metadata": {},
   "outputs": [
    {
     "data": {
      "text/plain": [
       "array([0, 1, 2, 3, 4, 0, 1, 2])"
      ]
     },
     "execution_count": 93,
     "metadata": {},
     "output_type": "execute_result"
    }
   ],
   "source": [
    "data = {\"state\": [\"Ohio\", \"Ohio\", \"Ohio\", \"Nevada\", \"Nevada\", \"Nevada\"],\n",
    "        \"year\": [2000, 2001, 2002, 2001, 2002, 2003],\n",
    "        \"pop\": [1.5, 1.7, 3.6, 2.4, 2.9, 3.2]}\n",
    "\n",
    "\n",
    "nu_index = pd.Index([\"a\", \"b\", \"c\", \"d\", \"e\", \"f\"])\n",
    "frame = pd.DataFrame(data, index=nu_index)\n",
    "\n",
    "frame.index = np.arange(6)\n",
    "\n",
    "frame\n",
    "\n",
    "test1 = np.arange(5)\n",
    "test2 = np.arange(3)\n",
    "np.concatenate([test1, test2])"
   ]
  },
  {
   "cell_type": "code",
   "execution_count": 94,
   "id": "3c8cc8aa",
   "metadata": {},
   "outputs": [
    {
     "data": {
      "text/plain": [
       "Index([0, 1, 2, 3, 4, 5], dtype='int64')"
      ]
     },
     "execution_count": 94,
     "metadata": {},
     "output_type": "execute_result"
    }
   ],
   "source": [
    "labels = pd.Index(np.arange(3))\n",
    "\n",
    "obj2 = pd.Series([1.5, -2.5, 0], index=labels)\n",
    "obj3 = pd.Series([1.5, -2.5, 0], np.arange(3))\n",
    "\n",
    "frame.index\n"
   ]
  },
  {
   "cell_type": "code",
   "execution_count": 499,
   "id": "9468f99c",
   "metadata": {},
   "outputs": [
    {
     "data": {
      "text/html": [
       "<div>\n",
       "<style scoped>\n",
       "    .dataframe tbody tr th:only-of-type {\n",
       "        vertical-align: middle;\n",
       "    }\n",
       "\n",
       "    .dataframe tbody tr th {\n",
       "        vertical-align: top;\n",
       "    }\n",
       "\n",
       "    .dataframe thead th {\n",
       "        text-align: right;\n",
       "    }\n",
       "</style>\n",
       "<table border=\"1\" class=\"dataframe\">\n",
       "  <thead>\n",
       "    <tr style=\"text-align: right;\">\n",
       "      <th></th>\n",
       "      <th>name</th>\n",
       "      <th>age</th>\n",
       "      <th>random</th>\n",
       "      <th>super</th>\n",
       "    </tr>\n",
       "  </thead>\n",
       "  <tbody>\n",
       "    <tr>\n",
       "      <th>now</th>\n",
       "      <td>paul</td>\n",
       "      <td>36</td>\n",
       "      <td>4</td>\n",
       "      <td>1</td>\n",
       "    </tr>\n",
       "    <tr>\n",
       "      <th>young</th>\n",
       "      <td>pablo</td>\n",
       "      <td>21</td>\n",
       "      <td>5</td>\n",
       "      <td>1</td>\n",
       "    </tr>\n",
       "    <tr>\n",
       "      <th>old</th>\n",
       "      <td>paulo</td>\n",
       "      <td>60</td>\n",
       "      <td>7</td>\n",
       "      <td>1</td>\n",
       "    </tr>\n",
       "    <tr>\n",
       "      <th>youngish</th>\n",
       "      <td>paulie</td>\n",
       "      <td>25</td>\n",
       "      <td>9</td>\n",
       "      <td>1</td>\n",
       "    </tr>\n",
       "  </tbody>\n",
       "</table>\n",
       "</div>"
      ],
      "text/plain": [
       "            name  age  random  super\n",
       "now         paul   36       4      1\n",
       "young      pablo   21       5      1\n",
       "old        paulo   60       7      1\n",
       "youngish  paulie   25       9      1"
      ]
     },
     "execution_count": 499,
     "metadata": {},
     "output_type": "execute_result"
    }
   ],
   "source": [
    "# construction of a basic dataframe from list\n",
    " \n",
    "rnd_gen = np.random.default_rng(1)\n",
    "\n",
    "toy_dict = {\n",
    "    \"name\": [\"paul\", \"pablo\", \"paulo\", \"paulie\"],\n",
    "    \"age\": [36, 21, 60, 25],\n",
    "    \"random\": rnd_gen.integers(0, 10, 4)\n",
    "}\n",
    "\n",
    "df = pd.DataFrame(toy_dict, index=[\"now\", \"young\", \"old\", \"youngish\"])\n",
    "\n",
    "df[\"super\"] = 1\n",
    "\n",
    "df\n",
    "\n",
    "\n"
   ]
  },
  {
   "cell_type": "code",
   "execution_count": 177,
   "id": "a0be2ff7",
   "metadata": {},
   "outputs": [
    {
     "data": {
      "text/html": [
       "<div>\n",
       "<style scoped>\n",
       "    .dataframe tbody tr th:only-of-type {\n",
       "        vertical-align: middle;\n",
       "    }\n",
       "\n",
       "    .dataframe tbody tr th {\n",
       "        vertical-align: top;\n",
       "    }\n",
       "\n",
       "    .dataframe thead th {\n",
       "        text-align: right;\n",
       "    }\n",
       "</style>\n",
       "<table border=\"1\" class=\"dataframe\">\n",
       "  <thead>\n",
       "    <tr style=\"text-align: right;\">\n",
       "      <th></th>\n",
       "      <th>paul</th>\n",
       "    </tr>\n",
       "  </thead>\n",
       "  <tbody>\n",
       "    <tr>\n",
       "      <th>surname</th>\n",
       "      <td>beard</td>\n",
       "    </tr>\n",
       "    <tr>\n",
       "      <th>age</th>\n",
       "      <td>36</td>\n",
       "    </tr>\n",
       "    <tr>\n",
       "      <th>random</th>\n",
       "      <td>8</td>\n",
       "    </tr>\n",
       "  </tbody>\n",
       "</table>\n",
       "</div>"
      ],
      "text/plain": [
       "          paul\n",
       "surname  beard\n",
       "age         36\n",
       "random       8"
      ]
     },
     "execution_count": 177,
     "metadata": {},
     "output_type": "execute_result"
    }
   ],
   "source": [
    "# construction of dataframe from nested list\n",
    "rnd_gen = np.random.default_rng(3)\n",
    "\n",
    "nested_dict = {\n",
    "    \"paul\": [\"beard\", 36, rnd_gen.integers(0, 10, 1)[0]],\n",
    "    \"pablo\": [\"barba\", 21, rnd_gen.integers(0, 10, 1)[0]]\n",
    "}\n",
    "\n",
    "nested_df = pd.DataFrame(nested_dict, index=[\"surname\", \"age\", \"random\"])\n",
    "\n",
    "nested_df.reindex(\n",
    "    columns = [\"pablo\", \"paul\"], \n",
    "    index = [\"age\", \"surname\", \"random\", \"secret\"], \n",
    "    fill_value= \"D'oh\"\n",
    "    )\n",
    "\n",
    "nested_df.reindex(\n",
    "    columns = [\"pablo\", \"paul\"], \n",
    "    index = np.setdiff1d(nested_df.index, \"age\"), \n",
    "    fill_value= \"D'oh\"\n",
    "    )\n",
    "\n",
    "nested_df.drop(\n",
    "    labels = [\"pablo\"], \n",
    "    axis = 1\n",
    "    )"
   ]
  },
  {
   "cell_type": "code",
   "execution_count": 194,
   "id": "47bc91fe",
   "metadata": {},
   "outputs": [
    {
     "data": {
      "text/plain": [
       "a     -1.0\n",
       "b     -1.0\n",
       "c    888.0\n",
       "d      3.0\n",
       "dtype: float64"
      ]
     },
     "execution_count": 194,
     "metadata": {},
     "output_type": "execute_result"
    }
   ],
   "source": [
    "obj = pd.Series(np.arange(4.), index=[\"a\", \"b\", \"c\", \"d\"])\n",
    "\n",
    "obj[1:3] = 888\n",
    "obj[[\"a\", \"b\"]] = 999\n",
    "obj.loc[[\"a\", \"b\"]] = -1\n",
    "\n",
    "obj"
   ]
  },
  {
   "cell_type": "code",
   "execution_count": 219,
   "id": "7c839e3b",
   "metadata": {},
   "outputs": [
    {
     "data": {
      "text/plain": [
       "a    1\n",
       "b    9\n",
       "c    3\n",
       "dtype: int64"
      ]
     },
     "execution_count": 219,
     "metadata": {},
     "output_type": "execute_result"
    }
   ],
   "source": [
    "obj1 = pd.Series([1, 2, 3], index=[2, 0, 1])\n",
    "obj2 = pd.Series([1, 2, 3], index=[\"a\", \"b\", \"c\"])\n",
    "\n",
    "obj1.iloc[[1, 2]] # location based on position\n",
    "obj1.loc[[1, 2]] # location based on index label matchign\n",
    "\n",
    "t123 = obj2.loc[\"a\":\"c\"] # location based on label (using slice feature instead of fancy indexing)\n",
    "t123[\"b\"] = 9\n",
    "obj2"
   ]
  },
  {
   "cell_type": "markdown",
   "id": "e9786cae",
   "metadata": {},
   "source": [
    "## Selecting and filtering dataframes..."
   ]
  },
  {
   "cell_type": "code",
   "execution_count": 350,
   "id": "becec9b9",
   "metadata": {},
   "outputs": [
    {
     "name": "stderr",
     "output_type": "stream",
     "text": [
      "C:\\Users\\paulb\\AppData\\Local\\Temp\\ipykernel_27044\\2875418306.py:14: UserWarning: Boolean Series key will be reindexed to match DataFrame index.\n",
      "  df.iloc[1:, :][df[\"age\"] < 35]\n"
     ]
    },
    {
     "data": {
      "text/html": [
       "<div>\n",
       "<style scoped>\n",
       "    .dataframe tbody tr th:only-of-type {\n",
       "        vertical-align: middle;\n",
       "    }\n",
       "\n",
       "    .dataframe tbody tr th {\n",
       "        vertical-align: top;\n",
       "    }\n",
       "\n",
       "    .dataframe thead th {\n",
       "        text-align: right;\n",
       "    }\n",
       "</style>\n",
       "<table border=\"1\" class=\"dataframe\">\n",
       "  <thead>\n",
       "    <tr style=\"text-align: right;\">\n",
       "      <th></th>\n",
       "      <th>age</th>\n",
       "      <th>name</th>\n",
       "    </tr>\n",
       "  </thead>\n",
       "  <tbody>\n",
       "    <tr>\n",
       "      <th>young</th>\n",
       "      <td>21</td>\n",
       "      <td>pablo</td>\n",
       "    </tr>\n",
       "    <tr>\n",
       "      <th>old</th>\n",
       "      <td>60</td>\n",
       "      <td>paulo</td>\n",
       "    </tr>\n",
       "  </tbody>\n",
       "</table>\n",
       "</div>"
      ],
      "text/plain": [
       "       age   name\n",
       "young   21  pablo\n",
       "old     60  paulo"
      ]
     },
     "execution_count": 350,
     "metadata": {},
     "output_type": "execute_result"
    }
   ],
   "source": [
    "# 1. just using df[]\n",
    "\n",
    "# boolean lists act as row filters\n",
    "df[df[\"age\"] > 30]\n",
    "df[[True, True, True, False]]\n",
    "\n",
    "# slice acts as row filters\n",
    "df[:2]\n",
    "\n",
    "# character lists act as column filters! \n",
    "df[[\"name\", \"age\", \"random\"]]\n",
    "\n",
    "# .loc is the main way to use filter() and select() in Python, with filter() being the first arg and select() being the second\n",
    "df.iloc[1:, :][df[\"age\"] < 35]\n",
    "young_men = df.loc[df[\"age\"] < 35, [\"age\", \"name\"]]\n",
    "\n",
    "# 2. using df.loc[] or df.iloc[]\n",
    "\n",
    "df.loc[\"now\", \"name\"] # df.loc[rows, cols]\n",
    "\n",
    "df.iloc[[0, -1], [0, 1] ] # df.iloc[rows, cols]\n",
    "\n",
    "\n",
    "# 3. using df.at[] or df.iat[] (like loc/iloc but works for single values only )\n",
    "\n",
    "df.at[\"now\", \"age\"]\n",
    "\n",
    "df.iat[0, 1]\n",
    "\n",
    "\n",
    "# chaining can lead to trouble, the best practice is to use loc[] and iloc[] in a single go...\n",
    "\n",
    "df.loc[\n",
    "    (df[\"name\"].str.endswith(\"o\"))  & (df[\"age\"] > 0) , #  note the use of explicit tupples... this is because & is evaluated BEFORE >\n",
    "    [\"age\", \"name\"]\n",
    "    ]"
   ]
  },
  {
   "cell_type": "code",
   "execution_count": 384,
   "id": "6c36cc0d",
   "metadata": {},
   "outputs": [
    {
     "data": {
      "text/html": [
       "<div>\n",
       "<style scoped>\n",
       "    .dataframe tbody tr th:only-of-type {\n",
       "        vertical-align: middle;\n",
       "    }\n",
       "\n",
       "    .dataframe tbody tr th {\n",
       "        vertical-align: top;\n",
       "    }\n",
       "\n",
       "    .dataframe thead th {\n",
       "        text-align: right;\n",
       "    }\n",
       "</style>\n",
       "<table border=\"1\" class=\"dataframe\">\n",
       "  <thead>\n",
       "    <tr style=\"text-align: right;\">\n",
       "      <th></th>\n",
       "      <th>a</th>\n",
       "      <th>b</th>\n",
       "      <th>c</th>\n",
       "      <th>d</th>\n",
       "      <th>e</th>\n",
       "    </tr>\n",
       "  </thead>\n",
       "  <tbody>\n",
       "    <tr>\n",
       "      <th>a</th>\n",
       "      <td>1.000000</td>\n",
       "      <td>-1.0</td>\n",
       "      <td>1.0</td>\n",
       "      <td>-1.0</td>\n",
       "      <td>NaN</td>\n",
       "    </tr>\n",
       "    <tr>\n",
       "      <th>b</th>\n",
       "      <td>81.000000</td>\n",
       "      <td>243.0</td>\n",
       "      <td>729.0</td>\n",
       "      <td>-1.0</td>\n",
       "      <td>0.166667</td>\n",
       "    </tr>\n",
       "    <tr>\n",
       "      <th>c</th>\n",
       "      <td>256.000000</td>\n",
       "      <td>10077696.0</td>\n",
       "      <td>1.0</td>\n",
       "      <td>-1.0</td>\n",
       "      <td>0.166667</td>\n",
       "    </tr>\n",
       "    <tr>\n",
       "      <th>d</th>\n",
       "      <td>0.142857</td>\n",
       "      <td>0.5</td>\n",
       "      <td>inf</td>\n",
       "      <td>NaN</td>\n",
       "      <td>0.142857</td>\n",
       "    </tr>\n",
       "  </tbody>\n",
       "</table>\n",
       "</div>"
      ],
      "text/plain": [
       "            a           b      c    d         e\n",
       "a    1.000000        -1.0    1.0 -1.0       NaN\n",
       "b   81.000000       243.0  729.0 -1.0  0.166667\n",
       "c  256.000000  10077696.0    1.0 -1.0  0.166667\n",
       "d    0.142857         0.5    inf  NaN  0.142857"
      ]
     },
     "execution_count": 384,
     "metadata": {},
     "output_type": "execute_result"
    }
   ],
   "source": [
    "# arithmetic operations will automatically align by their indices labels. the empty slots can be filled various ways\n",
    "\n",
    "rnd_gen2 = np.random.default_rng(2)\n",
    "\n",
    "no_set_1 = pd.DataFrame(np.arange(12).reshape(3, 4), index=[\"a\", \"b\", \"c\"], columns=[\"a\", \"b\", \"c\", \"d\"])\n",
    "no_set_2 = pd.DataFrame(rnd_gen2.poisson(3, 12).reshape(3, 4), index=[\"b\", \"c\", \"d\"], columns=[\"a\", \"b\", \"c\", \"e\"])\n",
    "\n",
    "no_set_1.pow(no_set_2, fill_value=-1)\n",
    "no_set_1.rpow(no_set_2, fill_value=-1)\n",
    "no_set_2.pow(no_set_1, fill_value=-1)"
   ]
  },
  {
   "cell_type": "code",
   "execution_count": null,
   "id": "7d6df1bf",
   "metadata": {},
   "outputs": [],
   "source": [
    "\n",
    "\n",
    "list1.reverse()\n",
    "\n",
    "\n"
   ]
  },
  {
   "cell_type": "code",
   "execution_count": null,
   "id": "ef4bb487",
   "metadata": {},
   "outputs": [
    {
     "data": {
      "text/html": [
       "<div>\n",
       "<style scoped>\n",
       "    .dataframe tbody tr th:only-of-type {\n",
       "        vertical-align: middle;\n",
       "    }\n",
       "\n",
       "    .dataframe tbody tr th {\n",
       "        vertical-align: top;\n",
       "    }\n",
       "\n",
       "    .dataframe thead th {\n",
       "        text-align: right;\n",
       "    }\n",
       "</style>\n",
       "<table border=\"1\" class=\"dataframe\">\n",
       "  <thead>\n",
       "    <tr style=\"text-align: right;\">\n",
       "      <th></th>\n",
       "      <th>a</th>\n",
       "      <th>b</th>\n",
       "      <th>c</th>\n",
       "      <th>d</th>\n",
       "    </tr>\n",
       "  </thead>\n",
       "  <tbody>\n",
       "    <tr>\n",
       "      <th>a</th>\n",
       "      <td>8.0</td>\n",
       "      <td>9.0</td>\n",
       "      <td>10.0</td>\n",
       "      <td>11.0</td>\n",
       "    </tr>\n",
       "    <tr>\n",
       "      <th>b</th>\n",
       "      <td>8.0</td>\n",
       "      <td>9.0</td>\n",
       "      <td>10.0</td>\n",
       "      <td>11.0</td>\n",
       "    </tr>\n",
       "    <tr>\n",
       "      <th>c</th>\n",
       "      <td>8.0</td>\n",
       "      <td>9.0</td>\n",
       "      <td>10.0</td>\n",
       "      <td>11.0</td>\n",
       "    </tr>\n",
       "    <tr>\n",
       "      <th>d</th>\n",
       "      <td>NaN</td>\n",
       "      <td>NaN</td>\n",
       "      <td>NaN</td>\n",
       "      <td>NaN</td>\n",
       "    </tr>\n",
       "    <tr>\n",
       "      <th>e</th>\n",
       "      <td>NaN</td>\n",
       "      <td>NaN</td>\n",
       "      <td>NaN</td>\n",
       "      <td>NaN</td>\n",
       "    </tr>\n",
       "    <tr>\n",
       "      <th>f</th>\n",
       "      <td>NaN</td>\n",
       "      <td>NaN</td>\n",
       "      <td>NaN</td>\n",
       "      <td>NaN</td>\n",
       "    </tr>\n",
       "    <tr>\n",
       "      <th>g</th>\n",
       "      <td>NaN</td>\n",
       "      <td>NaN</td>\n",
       "      <td>NaN</td>\n",
       "      <td>NaN</td>\n",
       "    </tr>\n",
       "  </tbody>\n",
       "</table>\n",
       "</div>"
      ],
      "text/plain": [
       "     a    b     c     d\n",
       "a  8.0  9.0  10.0  11.0\n",
       "b  8.0  9.0  10.0  11.0\n",
       "c  8.0  9.0  10.0  11.0\n",
       "d  NaN  NaN   NaN   NaN\n",
       "e  NaN  NaN   NaN   NaN\n",
       "f  NaN  NaN   NaN   NaN\n",
       "g  NaN  NaN   NaN   NaN"
      ]
     },
     "execution_count": 480,
     "metadata": {},
     "output_type": "execute_result"
    }
   ],
   "source": [
    "# dataframe combined with series\n",
    "\n",
    "no_set_3 = no_set_1.iloc[0, :]\n",
    "no_set_4 = no_set_1.iloc[:, 0]\n",
    "\n",
    "no_set_5 = pd.concat((no_set_3, no_set_4))\n",
    "\n",
    "letters_a_g = [\"a\", \"b\", \"c\", \"d\", \"e\", \"f\", \"g\"]\n",
    "letters_a_g.reverse()\n",
    "no_set_5.index = letters_a_g\n",
    "\n",
    "no_set_1.add(no_set_3)\n",
    "no_set_1.add(no_set_4, axis=0)\n",
    "no_set_1.add(no_set_5, axis = 0)\n"
   ]
  },
  {
   "cell_type": "code",
   "execution_count": null,
   "id": "54e7214f",
   "metadata": {},
   "outputs": [
    {
     "name": "stderr",
     "output_type": "stream",
     "text": [
      "C:\\Users\\paulb\\AppData\\Local\\Temp\\ipykernel_27044\\884689435.py:23: FutureWarning: Index.is_boolean is deprecated. Use pandas.api.types.is_bool_type instead.\n",
      "  df.index.is_boolean()\n"
     ]
    },
    {
     "data": {
      "text/plain": [
       "<function pandas.core.algorithms.unique(values)>"
      ]
     },
     "execution_count": 546,
     "metadata": {},
     "output_type": "execute_result"
    }
   ],
   "source": [
    "# Function Apply / Map\n",
    "\n",
    "no_set_1.apply(lambda x: np.median(x), axis = 0, result_type = \"reduce\")\n",
    "\n",
    "drnd_gen = np.random.default_rng(1)\n",
    "\n",
    "toy_dict = {\n",
    "    \"name\": [\"paul\", \"pablo\", \"paulo\", \"paulie\"],\n",
    "    \"age\": [36, 21, 60, 25],\n",
    "    \"random\": rnd_gen.integers(0, 10, 4)\n",
    "}\n",
    "\n",
    "df = pd.DataFrame(toy_dict, index=[\"now\", \"young\", \"old\", \"youngish\"])\n",
    "\n",
    "df[\"super\"] = 1\n",
    "\n",
    "df[\"name\"] = df[\"name\"].str.capitalize()\n",
    "\n",
    "df.sort_index(axis = 0, ascending=True)\n",
    "df = df.assign(extra = [1, 1, 2, 2])\n",
    "df.sort_values([\"age\", \"extra\", \"age\"], inplace=True)\n",
    "\n",
    "df.index.is_boolean()\n"
   ]
  },
  {
   "cell_type": "code",
   "execution_count": 557,
   "id": "a3b44fcd",
   "metadata": {},
   "outputs": [
    {
     "data": {
      "text/plain": [
       "extra\n",
       "1    2\n",
       "2    2\n",
       "Name: count, dtype: int64"
      ]
     },
     "execution_count": 557,
     "metadata": {},
     "output_type": "execute_result"
    }
   ],
   "source": [
    "# summary functions#\n",
    "\n",
    "names = df[\"name\"]\n",
    "\n",
    "names.sort_values()\n",
    "df.loc[:, \"extra\"].value_counts()\n"
   ]
  }
 ],
 "metadata": {
  "kernelspec": {
   "display_name": ".venv",
   "language": "python",
   "name": "python3"
  },
  "language_info": {
   "codemirror_mode": {
    "name": "ipython",
    "version": 3
   },
   "file_extension": ".py",
   "mimetype": "text/x-python",
   "name": "python",
   "nbconvert_exporter": "python",
   "pygments_lexer": "ipython3",
   "version": "3.13.3"
  }
 },
 "nbformat": 4,
 "nbformat_minor": 5
}
