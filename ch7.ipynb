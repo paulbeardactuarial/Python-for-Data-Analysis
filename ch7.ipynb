{
 "cells": [
  {
   "cell_type": "code",
   "execution_count": 5,
   "id": "3d8e77eb",
   "metadata": {},
   "outputs": [],
   "source": [
    "import pandas as pd\n",
    "\n",
    "import numpy as np"
   ]
  },
  {
   "cell_type": "code",
   "execution_count": 26,
   "id": "bd17ba2f",
   "metadata": {},
   "outputs": [
    {
     "data": {
      "application/vnd.microsoft.datawrangler.viewer.v0+json": {
       "columns": [
        {
         "name": "index",
         "rawType": "int64",
         "type": "integer"
        },
        {
         "name": "k1",
         "rawType": "object",
         "type": "string"
        },
        {
         "name": "k2",
         "rawType": "object",
         "type": "string"
        }
       ],
       "conversionMethod": "pd.DataFrame",
       "ref": "37577431-f82a-4394-a503-90d6649951d2",
       "rows": [
        [
         "0",
         "ONE",
         "one"
        ],
        [
         "10",
         "TWO",
         "one"
        ],
        [
         "20",
         "ONE",
         "two"
        ],
        [
         "30",
         "TWO",
         "three"
        ],
        [
         "40",
         "ONE",
         "three"
        ],
        [
         "50",
         "TWO",
         "four"
        ],
        [
         "60",
         "TWO",
         "four"
        ]
       ],
       "shape": {
        "columns": 2,
        "rows": 7
       }
      },
      "text/html": [
       "<div>\n",
       "<style scoped>\n",
       "    .dataframe tbody tr th:only-of-type {\n",
       "        vertical-align: middle;\n",
       "    }\n",
       "\n",
       "    .dataframe tbody tr th {\n",
       "        vertical-align: top;\n",
       "    }\n",
       "\n",
       "    .dataframe thead th {\n",
       "        text-align: right;\n",
       "    }\n",
       "</style>\n",
       "<table border=\"1\" class=\"dataframe\">\n",
       "  <thead>\n",
       "    <tr style=\"text-align: right;\">\n",
       "      <th></th>\n",
       "      <th>k1</th>\n",
       "      <th>k2</th>\n",
       "    </tr>\n",
       "  </thead>\n",
       "  <tbody>\n",
       "    <tr>\n",
       "      <th>0</th>\n",
       "      <td>ONE</td>\n",
       "      <td>one</td>\n",
       "    </tr>\n",
       "    <tr>\n",
       "      <th>10</th>\n",
       "      <td>TWO</td>\n",
       "      <td>one</td>\n",
       "    </tr>\n",
       "    <tr>\n",
       "      <th>20</th>\n",
       "      <td>ONE</td>\n",
       "      <td>two</td>\n",
       "    </tr>\n",
       "    <tr>\n",
       "      <th>30</th>\n",
       "      <td>TWO</td>\n",
       "      <td>three</td>\n",
       "    </tr>\n",
       "    <tr>\n",
       "      <th>40</th>\n",
       "      <td>ONE</td>\n",
       "      <td>three</td>\n",
       "    </tr>\n",
       "    <tr>\n",
       "      <th>50</th>\n",
       "      <td>TWO</td>\n",
       "      <td>four</td>\n",
       "    </tr>\n",
       "    <tr>\n",
       "      <th>60</th>\n",
       "      <td>TWO</td>\n",
       "      <td>four</td>\n",
       "    </tr>\n",
       "  </tbody>\n",
       "</table>\n",
       "</div>"
      ],
      "text/plain": [
       "     k1     k2\n",
       "0   ONE    one\n",
       "10  TWO    one\n",
       "20  ONE    two\n",
       "30  TWO  three\n",
       "40  ONE  three\n",
       "50  TWO   four\n",
       "60  TWO   four"
      ]
     },
     "execution_count": 26,
     "metadata": {},
     "output_type": "execute_result"
    }
   ],
   "source": [
    "data = pd.DataFrame(\n",
    "    {\"k1\": [\"one\", \"two\"] * 3 + [\"two\"],\n",
    "    \"k2\": [1, 1, 2, 3, 3, 4, 4]\n",
    "    }\n",
    "    )\n",
    "\n",
    "data.duplicated()\n",
    "data.drop_duplicates()\n",
    "\n",
    "number_to_word_dict = {\n",
    "    1: \"one\",\n",
    "    2: \"two\",\n",
    "    3: \"three\",\n",
    "    4: \"four\"\n",
    "}\n",
    "\n",
    "data[\"k1\"] = data[\"k1\"].map(str.upper)\n",
    "data[\"k2\"] = data[\"k2\"].map(number_to_word_dict)\n",
    "data.index = data.index.map(lambda x: x*10)\n",
    "\n",
    "data"
   ]
  },
  {
   "cell_type": "code",
   "execution_count": null,
   "id": "a2d20773",
   "metadata": {},
   "outputs": [
    {
     "name": "stdout",
     "output_type": "stream",
     "text": [
      "1\n",
      "3\n",
      "3\n"
     ]
    },
    {
     "data": {
      "text/plain": [
       "b'ok'"
      ]
     },
     "execution_count": 52,
     "metadata": {},
     "output_type": "execute_result"
    }
   ],
   "source": [
    "val = \"a, b,  guido\"\n",
    "\n",
    "pieces = [x.strip() for x in val.split(\",\")]\n",
    "\n",
    "str(\"::\").join(pieces)\n",
    "\n",
    "print(pieces.index(\"b\"))\n",
    "print(val.index(\"b\"))\n",
    "print(val.find(\"b\"))\n",
    "pieces\n",
    "\n"
   ]
  },
  {
   "cell_type": "code",
   "execution_count": 58,
   "id": "4830f247",
   "metadata": {},
   "outputs": [
    {
     "data": {
      "text/plain": [
       "re.IGNORECASE"
      ]
     },
     "execution_count": 58,
     "metadata": {},
     "output_type": "execute_result"
    }
   ],
   "source": [
    "import re\n",
    "\n",
    "regex = re.compile(r\"\\s+\")\n",
    "\n",
    "re.IGNORECASE "
   ]
  },
  {
   "cell_type": "code",
   "execution_count": 119,
   "id": "111ee510",
   "metadata": {},
   "outputs": [
    {
     "name": "stdout",
     "output_type": "stream",
     "text": [
      "    fruit  apple  orange  plantain\n",
      "0   apple   True   False     False\n",
      "1   apple   True   False     False\n",
      "2  orange  False    True     False\n",
      "3   apple   True   False     False\n",
      "4  orange  False    True     False\n",
      "5   apple   True   False     False\n",
      "6  orange  False    True     False\n",
      "    fruit  apple  orange\n",
      "0   apple   True   False\n",
      "1   apple   True   False\n",
      "2  orange  False    True\n",
      "3   apple   True   False\n",
      "4  orange  False    True\n",
      "5   apple   True   False\n",
      "6  orange  False    True\n"
     ]
    }
   ],
   "source": [
    "# categoricals\n",
    "\n",
    "# Series\n",
    "fruit_names = pd.Series([\"apple\", \"orange\", \"banan\"])\n",
    "values = pd.Series([0, 0, 1, 0, 1, 0, 1])\n",
    "\n",
    "\n",
    "# DataFrame\n",
    "df = pd.DataFrame({\n",
    "    \"fruit\": [\"apple\", \"orange\"] * 3,\n",
    "    \"random\": np.random.normal(size = 6)\n",
    "})\n",
    "\n",
    "df[\"fruit\"] = df[\"fruit\"].astype(\"category\")\n",
    "df[\"fruit\"].array.codes\n",
    "\n",
    "# create dictionary of the categories and codes \n",
    "dict(enumerate(df[\"fruit\"].array.categories))\n",
    "\n",
    "# create Categorical Series from codes\n",
    "fruit_cat_series = pd.Categorical.from_codes(values, fruit_names, ordered=True)\n",
    "\n",
    "fruit_cat_series = fruit_cat_series.rename_categories(\n",
    "    {\"banan\": \"plantain\"}\n",
    ")\n",
    "\n",
    "dummies = pd.get_dummies(fruit_cat_series)\n",
    "table1 = pd.concat([pd.Series(fruit_cat_series, name = \"fruit\"), dummies], axis = 1)\n",
    "print(table1)\n",
    "\n",
    "fruit_cat_series = fruit_cat_series.remove_unused_categories()\n",
    "dummies = pd.get_dummies(fruit_cat_series)\n",
    "table2 = pd.concat([pd.Series(fruit_cat_series, name = \"fruit\"), dummies], axis = 1)\n",
    "print(table2)"
   ]
  }
 ],
 "metadata": {
  "kernelspec": {
   "display_name": ".venv",
   "language": "python",
   "name": "python3"
  },
  "language_info": {
   "codemirror_mode": {
    "name": "ipython",
    "version": 3
   },
   "file_extension": ".py",
   "mimetype": "text/x-python",
   "name": "python",
   "nbconvert_exporter": "python",
   "pygments_lexer": "ipython3",
   "version": "3.13.3"
  }
 },
 "nbformat": 4,
 "nbformat_minor": 5
}
