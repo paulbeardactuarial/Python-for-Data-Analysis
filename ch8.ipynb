{
 "cells": [
  {
   "cell_type": "code",
   "execution_count": 117,
   "id": "8b06d550",
   "metadata": {},
   "outputs": [],
   "source": [
    "import pandas as pd\n",
    "\n",
    "import numpy as np\n",
    "\n",
    "import itertools as it"
   ]
  },
  {
   "cell_type": "code",
   "execution_count": 118,
   "id": "c6c395b8",
   "metadata": {},
   "outputs": [
    {
     "name": "stderr",
     "output_type": "stream",
     "text": [
      "C:\\Users\\paulb\\AppData\\Local\\Temp\\ipykernel_33588\\2008838191.py:26: FutureWarning: DataFrame.groupby with axis=1 is deprecated. Do `frame.T.groupby(...)` without axis instead.\n",
      "  df.groupby(level = \"color\", axis=1).mean()\n"
     ]
    },
    {
     "data": {
      "application/vnd.microsoft.datawrangler.viewer.v0+json": {
       "columns": [
        {
         "name": "index",
         "rawType": "int64",
         "type": "integer"
        },
        {
         "name": "('Ohio', 'Red')",
         "rawType": "int32",
         "type": "integer"
        },
        {
         "name": "('Ohio', 'Green')",
         "rawType": "int32",
         "type": "integer"
        },
        {
         "name": "('Colorado', 'Green')",
         "rawType": "int32",
         "type": "integer"
        }
       ],
       "conversionMethod": "pd.DataFrame",
       "ref": "abf780c4-2dbe-4563-b398-392498ba4c1d",
       "rows": [
        [
         "0",
         "1",
         "6",
         "4"
        ],
        [
         "1",
         "8",
         "1",
         "7"
        ],
        [
         "2",
         "3",
         "3",
         "5"
        ]
       ],
       "shape": {
        "columns": 3,
        "rows": 3
       }
      },
      "text/html": [
       "<div>\n",
       "<style scoped>\n",
       "    .dataframe tbody tr th:only-of-type {\n",
       "        vertical-align: middle;\n",
       "    }\n",
       "\n",
       "    .dataframe tbody tr th {\n",
       "        vertical-align: top;\n",
       "    }\n",
       "\n",
       "    .dataframe thead tr th {\n",
       "        text-align: left;\n",
       "    }\n",
       "</style>\n",
       "<table border=\"1\" class=\"dataframe\">\n",
       "  <thead>\n",
       "    <tr>\n",
       "      <th>state</th>\n",
       "      <th colspan=\"2\" halign=\"left\">Ohio</th>\n",
       "      <th>Colorado</th>\n",
       "    </tr>\n",
       "    <tr>\n",
       "      <th>color</th>\n",
       "      <th>Red</th>\n",
       "      <th>Green</th>\n",
       "      <th>Green</th>\n",
       "    </tr>\n",
       "  </thead>\n",
       "  <tbody>\n",
       "    <tr>\n",
       "      <th>0</th>\n",
       "      <td>1</td>\n",
       "      <td>6</td>\n",
       "      <td>4</td>\n",
       "    </tr>\n",
       "    <tr>\n",
       "      <th>1</th>\n",
       "      <td>8</td>\n",
       "      <td>1</td>\n",
       "      <td>7</td>\n",
       "    </tr>\n",
       "    <tr>\n",
       "      <th>2</th>\n",
       "      <td>3</td>\n",
       "      <td>3</td>\n",
       "      <td>5</td>\n",
       "    </tr>\n",
       "  </tbody>\n",
       "</table>\n",
       "</div>"
      ],
      "text/plain": [
       "state Ohio       Colorado\n",
       "color  Red Green    Green\n",
       "0        1     6        4\n",
       "1        8     1        7\n",
       "2        3     3        5"
      ]
     },
     "execution_count": 118,
     "metadata": {},
     "output_type": "execute_result"
    }
   ],
   "source": [
    "# creating hierachial index for a series\n",
    "\n",
    "letters = [\"a\", \"b\", \"c\"]\n",
    "numbers = [1, 2, 3]\n",
    "\n",
    "combo = list(it.product(letters, numbers))\n",
    "\n",
    "#combo_dict = dict(enumerate(list(combo)))\n",
    "\n",
    "#combo.MultiIndex(levels = (\"letter\", \"number\"))\n",
    "letters_long = [a for a, b in combo]\n",
    "numbers_long = [b for a, b in combo]\n",
    "\n",
    "#[letters_long, numbers_long]\n",
    "dic = {\"letter\": letters_long, \"number\": numbers_long}\n",
    "s = pd.Series(np.random.randint(0, 11, len(letters_long)), index=[letters_long, numbers_long], name=\"rando\")\n",
    "s.index.names = \"letters\", \"numbers\"\n",
    "\n",
    "df = s.unstack(level=0)\n",
    "df.columns = pd.MultiIndex.from_arrays([[\"Ohio\", \"Ohio\", \"Colorado\"],\n",
    "                          [\"Green\", \"Red\", \"Green\"]],\n",
    "                          names=[\"state\", \"color\"])\n",
    "\n",
    "\n",
    "\n",
    "df.groupby(level = \"color\", axis=1).mean()\n",
    "\n",
    "df = df.set_index((\"Ohio\", \"Red\")) # we can turn one of the columns into an index!\n",
    "\n",
    "df.reset_index() # we can reverse this... and turn the index back into columns of the dataframe\n"
   ]
  },
  {
   "cell_type": "code",
   "execution_count": 119,
   "id": "9dbfdc55",
   "metadata": {},
   "outputs": [
    {
     "data": {
      "application/vnd.microsoft.datawrangler.viewer.v0+json": {
       "columns": [
        {
         "name": "index",
         "rawType": "int64",
         "type": "integer"
        },
        {
         "name": "key",
         "rawType": "object",
         "type": "string"
        },
        {
         "name": "data_x",
         "rawType": "Int64",
         "type": "integer"
        },
        {
         "name": "data_y",
         "rawType": "Int64",
         "type": "integer"
        },
        {
         "name": "_merge",
         "rawType": "category",
         "type": "unknown"
        }
       ],
       "conversionMethod": "pd.DataFrame",
       "ref": "f70d671d-e61d-4e2d-b8ee-3100bd43759c",
       "rows": [
        [
         "0",
         "b",
         "0",
         "1",
         "both"
        ],
        [
         "1",
         "b",
         "1",
         "1",
         "both"
        ],
        [
         "2",
         "a",
         "2",
         "0",
         "both"
        ],
        [
         "3",
         "c",
         "3",
         null,
         "left_only"
        ],
        [
         "4",
         "a",
         "4",
         "0",
         "both"
        ],
        [
         "5",
         "a",
         "5",
         "0",
         "both"
        ],
        [
         "6",
         "b",
         "6",
         "1",
         "both"
        ]
       ],
       "shape": {
        "columns": 4,
        "rows": 7
       }
      },
      "text/html": [
       "<div>\n",
       "<style scoped>\n",
       "    .dataframe tbody tr th:only-of-type {\n",
       "        vertical-align: middle;\n",
       "    }\n",
       "\n",
       "    .dataframe tbody tr th {\n",
       "        vertical-align: top;\n",
       "    }\n",
       "\n",
       "    .dataframe thead th {\n",
       "        text-align: right;\n",
       "    }\n",
       "</style>\n",
       "<table border=\"1\" class=\"dataframe\">\n",
       "  <thead>\n",
       "    <tr style=\"text-align: right;\">\n",
       "      <th></th>\n",
       "      <th>key</th>\n",
       "      <th>data_x</th>\n",
       "      <th>data_y</th>\n",
       "      <th>_merge</th>\n",
       "    </tr>\n",
       "  </thead>\n",
       "  <tbody>\n",
       "    <tr>\n",
       "      <th>0</th>\n",
       "      <td>b</td>\n",
       "      <td>0</td>\n",
       "      <td>1</td>\n",
       "      <td>both</td>\n",
       "    </tr>\n",
       "    <tr>\n",
       "      <th>1</th>\n",
       "      <td>b</td>\n",
       "      <td>1</td>\n",
       "      <td>1</td>\n",
       "      <td>both</td>\n",
       "    </tr>\n",
       "    <tr>\n",
       "      <th>2</th>\n",
       "      <td>a</td>\n",
       "      <td>2</td>\n",
       "      <td>0</td>\n",
       "      <td>both</td>\n",
       "    </tr>\n",
       "    <tr>\n",
       "      <th>3</th>\n",
       "      <td>c</td>\n",
       "      <td>3</td>\n",
       "      <td>&lt;NA&gt;</td>\n",
       "      <td>left_only</td>\n",
       "    </tr>\n",
       "    <tr>\n",
       "      <th>4</th>\n",
       "      <td>a</td>\n",
       "      <td>4</td>\n",
       "      <td>0</td>\n",
       "      <td>both</td>\n",
       "    </tr>\n",
       "    <tr>\n",
       "      <th>5</th>\n",
       "      <td>a</td>\n",
       "      <td>5</td>\n",
       "      <td>0</td>\n",
       "      <td>both</td>\n",
       "    </tr>\n",
       "    <tr>\n",
       "      <th>6</th>\n",
       "      <td>b</td>\n",
       "      <td>6</td>\n",
       "      <td>1</td>\n",
       "      <td>both</td>\n",
       "    </tr>\n",
       "  </tbody>\n",
       "</table>\n",
       "</div>"
      ],
      "text/plain": [
       "  key  data_x  data_y     _merge\n",
       "0   b       0       1       both\n",
       "1   b       1       1       both\n",
       "2   a       2       0       both\n",
       "3   c       3    <NA>  left_only\n",
       "4   a       4       0       both\n",
       "5   a       5       0       both\n",
       "6   b       6       1       both"
      ]
     },
     "execution_count": 119,
     "metadata": {},
     "output_type": "execute_result"
    }
   ],
   "source": [
    "# combining dataframes\n",
    "\n",
    "df1 = pd.DataFrame({\"key\": [\"b\", \"b\", \"a\", \"c\", \"a\", \"a\", \"b\"],\n",
    "    \"data\": pd.Series(range(7), dtype=\"Int64\")})\n",
    "\n",
    "df2 = pd.DataFrame({\"key\": [\"a\", \"b\", \"d\"],\n",
    "    \"data\": pd.Series(range(3), dtype=\"Int64\")})\n",
    "\n",
    "pd.merge(df1, df2, how = \"left\", on = \"key\", indicator=True)\n",
    "\n"
   ]
  },
  {
   "cell_type": "code",
   "execution_count": 120,
   "id": "cf3976f0",
   "metadata": {},
   "outputs": [
    {
     "data": {
      "application/vnd.microsoft.datawrangler.viewer.v0+json": {
       "columns": [
        {
         "name": "index",
         "rawType": "int64",
         "type": "integer"
        },
        {
         "name": "key",
         "rawType": "object",
         "type": "string"
        },
        {
         "name": "data_1",
         "rawType": "Int64",
         "type": "integer"
        },
        {
         "name": "data_2",
         "rawType": "Int64",
         "type": "integer"
        }
       ],
       "conversionMethod": "pd.DataFrame",
       "ref": "45d26cea-4332-4d1a-a84f-1ddae589c0ef",
       "rows": [
        [
         "0",
         "b",
         "0",
         "1"
        ],
        [
         "1",
         "b",
         "1",
         "1"
        ],
        [
         "2",
         "a",
         "2",
         "0"
        ],
        [
         "3",
         "c",
         "3",
         null
        ],
        [
         "4",
         "a",
         "4",
         "0"
        ],
        [
         "5",
         "a",
         "5",
         "0"
        ],
        [
         "6",
         "b",
         "6",
         "1"
        ]
       ],
       "shape": {
        "columns": 3,
        "rows": 7
       }
      },
      "text/html": [
       "<div>\n",
       "<style scoped>\n",
       "    .dataframe tbody tr th:only-of-type {\n",
       "        vertical-align: middle;\n",
       "    }\n",
       "\n",
       "    .dataframe tbody tr th {\n",
       "        vertical-align: top;\n",
       "    }\n",
       "\n",
       "    .dataframe thead th {\n",
       "        text-align: right;\n",
       "    }\n",
       "</style>\n",
       "<table border=\"1\" class=\"dataframe\">\n",
       "  <thead>\n",
       "    <tr style=\"text-align: right;\">\n",
       "      <th></th>\n",
       "      <th>key</th>\n",
       "      <th>data_1</th>\n",
       "      <th>data_2</th>\n",
       "    </tr>\n",
       "  </thead>\n",
       "  <tbody>\n",
       "    <tr>\n",
       "      <th>0</th>\n",
       "      <td>b</td>\n",
       "      <td>0</td>\n",
       "      <td>1</td>\n",
       "    </tr>\n",
       "    <tr>\n",
       "      <th>1</th>\n",
       "      <td>b</td>\n",
       "      <td>1</td>\n",
       "      <td>1</td>\n",
       "    </tr>\n",
       "    <tr>\n",
       "      <th>2</th>\n",
       "      <td>a</td>\n",
       "      <td>2</td>\n",
       "      <td>0</td>\n",
       "    </tr>\n",
       "    <tr>\n",
       "      <th>3</th>\n",
       "      <td>c</td>\n",
       "      <td>3</td>\n",
       "      <td>&lt;NA&gt;</td>\n",
       "    </tr>\n",
       "    <tr>\n",
       "      <th>4</th>\n",
       "      <td>a</td>\n",
       "      <td>4</td>\n",
       "      <td>0</td>\n",
       "    </tr>\n",
       "    <tr>\n",
       "      <th>5</th>\n",
       "      <td>a</td>\n",
       "      <td>5</td>\n",
       "      <td>0</td>\n",
       "    </tr>\n",
       "    <tr>\n",
       "      <th>6</th>\n",
       "      <td>b</td>\n",
       "      <td>6</td>\n",
       "      <td>1</td>\n",
       "    </tr>\n",
       "  </tbody>\n",
       "</table>\n",
       "</div>"
      ],
      "text/plain": [
       "  key  data_1  data_2\n",
       "0   b       0       1\n",
       "1   b       1       1\n",
       "2   a       2       0\n",
       "3   c       3    <NA>\n",
       "4   a       4       0\n",
       "5   a       5       0\n",
       "6   b       6       1"
      ]
     },
     "execution_count": 120,
     "metadata": {},
     "output_type": "execute_result"
    }
   ],
   "source": [
    "df1 = pd.DataFrame({\"key\": [\"b\", \"b\", \"a\", \"c\", \"a\", \"a\", \"b\"],\n",
    "    \"data\": pd.Series(range(7), dtype=\"Int64\")})\n",
    "\n",
    "df2 = pd.DataFrame({\"key\": [\"a\", \"b\", \"d\"],\n",
    "    \"data\": pd.Series(range(3), dtype=\"Int64\")})\n",
    "\n",
    "df2 = df2.set_index(\"key\")\n",
    "\n",
    "pd.merge(df1, df2, how = \"left\", left_on= \"key\", right_index=True, suffixes= (\"_1\", \"_2\"))"
   ]
  },
  {
   "cell_type": "code",
   "execution_count": 121,
   "id": "204b21a3",
   "metadata": {},
   "outputs": [
    {
     "name": "stdout",
     "output_type": "stream",
     "text": [
      "  series1 series2\n",
      "1       a       e\n",
      "2       b       f\n",
      "\n",
      "\n",
      "1    a\n",
      "2    b\n",
      "3    c\n",
      "0    d\n",
      "1    e\n",
      "2    f\n",
      "dtype: object\n",
      "MultiIndex([('alpha', 1),\n",
      "            ('alpha', 2),\n",
      "            ('alpha', 3),\n",
      "            ( 'beta', 0),\n",
      "            ( 'beta', 1),\n",
      "            ( 'beta', 2),\n",
      "            ('gamma', 0),\n",
      "            ('gamma', 1),\n",
      "            ('gamma', 2)],\n",
      "           )\n"
     ]
    },
    {
     "data": {
      "application/vnd.microsoft.datawrangler.viewer.v0+json": {
       "columns": [
        {
         "name": "index",
         "rawType": "int64",
         "type": "integer"
        },
        {
         "name": "alpha",
         "rawType": "object",
         "type": "unknown"
        },
        {
         "name": "beta",
         "rawType": "object",
         "type": "unknown"
        },
        {
         "name": "gamma",
         "rawType": "object",
         "type": "unknown"
        }
       ],
       "conversionMethod": "pd.DataFrame",
       "ref": "774dd5f4-e102-467f-ba97-9b2534f5162f",
       "rows": [
        [
         "0",
         null,
         "d",
         "d"
        ],
        [
         "1",
         "a",
         "e",
         "e"
        ],
        [
         "2",
         "b",
         "f",
         "f"
        ],
        [
         "3",
         "c",
         null,
         null
        ]
       ],
       "shape": {
        "columns": 3,
        "rows": 4
       }
      },
      "text/html": [
       "<div>\n",
       "<style scoped>\n",
       "    .dataframe tbody tr th:only-of-type {\n",
       "        vertical-align: middle;\n",
       "    }\n",
       "\n",
       "    .dataframe tbody tr th {\n",
       "        vertical-align: top;\n",
       "    }\n",
       "\n",
       "    .dataframe thead th {\n",
       "        text-align: right;\n",
       "    }\n",
       "</style>\n",
       "<table border=\"1\" class=\"dataframe\">\n",
       "  <thead>\n",
       "    <tr style=\"text-align: right;\">\n",
       "      <th></th>\n",
       "      <th>alpha</th>\n",
       "      <th>beta</th>\n",
       "      <th>gamma</th>\n",
       "    </tr>\n",
       "  </thead>\n",
       "  <tbody>\n",
       "    <tr>\n",
       "      <th>0</th>\n",
       "      <td>NaN</td>\n",
       "      <td>d</td>\n",
       "      <td>d</td>\n",
       "    </tr>\n",
       "    <tr>\n",
       "      <th>1</th>\n",
       "      <td>a</td>\n",
       "      <td>e</td>\n",
       "      <td>e</td>\n",
       "    </tr>\n",
       "    <tr>\n",
       "      <th>2</th>\n",
       "      <td>b</td>\n",
       "      <td>f</td>\n",
       "      <td>f</td>\n",
       "    </tr>\n",
       "    <tr>\n",
       "      <th>3</th>\n",
       "      <td>c</td>\n",
       "      <td>NaN</td>\n",
       "      <td>NaN</td>\n",
       "    </tr>\n",
       "  </tbody>\n",
       "</table>\n",
       "</div>"
      ],
      "text/plain": [
       "  alpha beta gamma\n",
       "0   NaN    d     d\n",
       "1     a    e     e\n",
       "2     b    f     f\n",
       "3     c  NaN   NaN"
      ]
     },
     "execution_count": 121,
     "metadata": {},
     "output_type": "execute_result"
    }
   ],
   "source": [
    "# concatenation of Series'\n",
    "s1 = pd.Series([\"a\", \"b\", \"c\"], index = np.arange(1, 4), name = \"series1\")\n",
    "s2 = pd.Series([\"d\", \"e\", \"f\"], index = range(3), name = \"series2\")\n",
    "\n",
    "print(pd.concat([s1, s2], axis=1, join=\"inner\"))\n",
    "print(\"\\n\")\n",
    "print(pd.concat([s1, s2], axis = 0))\n",
    "\n",
    "nu_s = pd.concat([s1, s2, s2], keys = [\"alpha\", \"beta\", \"gamma\"])\n",
    "print(nu_s.index)\n",
    "\n",
    "nu_s.unstack(level=0)\n"
   ]
  },
  {
   "cell_type": "code",
   "execution_count": 122,
   "id": "b92e691e",
   "metadata": {},
   "outputs": [
    {
     "data": {
      "application/vnd.microsoft.datawrangler.viewer.v0+json": {
       "columns": [
        {
         "name": "index",
         "rawType": "int64",
         "type": "integer"
        },
        {
         "name": "key",
         "rawType": "object",
         "type": "string"
        },
        {
         "name": "data",
         "rawType": "Int64",
         "type": "integer"
        }
       ],
       "conversionMethod": "pd.DataFrame",
       "ref": "410af981-4d54-488e-8a77-93e230375a61",
       "rows": [
        [
         "0",
         "a",
         "0"
        ],
        [
         "1",
         "b",
         "1"
        ],
        [
         "2",
         "d",
         "2"
        ],
        [
         "3",
         "a",
         "0"
        ],
        [
         "4",
         "b",
         "1"
        ],
        [
         "5",
         "d",
         "2"
        ]
       ],
       "shape": {
        "columns": 2,
        "rows": 6
       }
      },
      "text/html": [
       "<div>\n",
       "<style scoped>\n",
       "    .dataframe tbody tr th:only-of-type {\n",
       "        vertical-align: middle;\n",
       "    }\n",
       "\n",
       "    .dataframe tbody tr th {\n",
       "        vertical-align: top;\n",
       "    }\n",
       "\n",
       "    .dataframe thead th {\n",
       "        text-align: right;\n",
       "    }\n",
       "</style>\n",
       "<table border=\"1\" class=\"dataframe\">\n",
       "  <thead>\n",
       "    <tr style=\"text-align: right;\">\n",
       "      <th></th>\n",
       "      <th>key</th>\n",
       "      <th>data</th>\n",
       "    </tr>\n",
       "  </thead>\n",
       "  <tbody>\n",
       "    <tr>\n",
       "      <th>0</th>\n",
       "      <td>a</td>\n",
       "      <td>0</td>\n",
       "    </tr>\n",
       "    <tr>\n",
       "      <th>1</th>\n",
       "      <td>b</td>\n",
       "      <td>1</td>\n",
       "    </tr>\n",
       "    <tr>\n",
       "      <th>2</th>\n",
       "      <td>d</td>\n",
       "      <td>2</td>\n",
       "    </tr>\n",
       "    <tr>\n",
       "      <th>3</th>\n",
       "      <td>a</td>\n",
       "      <td>0</td>\n",
       "    </tr>\n",
       "    <tr>\n",
       "      <th>4</th>\n",
       "      <td>b</td>\n",
       "      <td>1</td>\n",
       "    </tr>\n",
       "    <tr>\n",
       "      <th>5</th>\n",
       "      <td>d</td>\n",
       "      <td>2</td>\n",
       "    </tr>\n",
       "  </tbody>\n",
       "</table>\n",
       "</div>"
      ],
      "text/plain": [
       "  key  data\n",
       "0   a     0\n",
       "1   b     1\n",
       "2   d     2\n",
       "3   a     0\n",
       "4   b     1\n",
       "5   d     2"
      ]
     },
     "execution_count": 122,
     "metadata": {},
     "output_type": "execute_result"
    }
   ],
   "source": [
    "# concatenation of dataframes\n",
    "df3 = df2.reset_index()\n",
    "pd.concat([df3, df3], ignore_index=True, names=[\"alpha\", \"beta\"]) # when indexes have no meaning, can ignore to reset\n",
    "\n"
   ]
  },
  {
   "cell_type": "code",
   "execution_count": null,
   "id": "d81c8d4b",
   "metadata": {},
   "outputs": [
    {
     "data": {
      "application/vnd.microsoft.datawrangler.viewer.v0+json": {
       "columns": [
        {
         "name": "key",
         "rawType": "object",
         "type": "string"
        },
        {
         "name": "data",
         "rawType": "float64",
         "type": "float"
        }
       ],
       "conversionMethod": "pd.DataFrame",
       "ref": "20e8f3c7-864f-419f-9c61-beb1d397e3a0",
       "rows": [
        [
         "a",
         "0.0"
        ],
        [
         "a",
         "0.0"
        ],
        [
         "a",
         "0.0"
        ],
        [
         "b",
         "0.0"
        ],
        [
         "b",
         "1.0"
        ],
        [
         "b",
         "6.0"
        ],
        [
         "c",
         "3.0"
        ],
        [
         "d",
         "2.0"
        ]
       ],
       "shape": {
        "columns": 1,
        "rows": 8
       }
      },
      "text/html": [
       "<div>\n",
       "<style scoped>\n",
       "    .dataframe tbody tr th:only-of-type {\n",
       "        vertical-align: middle;\n",
       "    }\n",
       "\n",
       "    .dataframe tbody tr th {\n",
       "        vertical-align: top;\n",
       "    }\n",
       "\n",
       "    .dataframe thead th {\n",
       "        text-align: right;\n",
       "    }\n",
       "</style>\n",
       "<table border=\"1\" class=\"dataframe\">\n",
       "  <thead>\n",
       "    <tr style=\"text-align: right;\">\n",
       "      <th></th>\n",
       "      <th>data</th>\n",
       "    </tr>\n",
       "    <tr>\n",
       "      <th>key</th>\n",
       "      <th></th>\n",
       "    </tr>\n",
       "  </thead>\n",
       "  <tbody>\n",
       "    <tr>\n",
       "      <th>a</th>\n",
       "      <td>0.0</td>\n",
       "    </tr>\n",
       "    <tr>\n",
       "      <th>a</th>\n",
       "      <td>0.0</td>\n",
       "    </tr>\n",
       "    <tr>\n",
       "      <th>a</th>\n",
       "      <td>0.0</td>\n",
       "    </tr>\n",
       "    <tr>\n",
       "      <th>b</th>\n",
       "      <td>0.0</td>\n",
       "    </tr>\n",
       "    <tr>\n",
       "      <th>b</th>\n",
       "      <td>1.0</td>\n",
       "    </tr>\n",
       "    <tr>\n",
       "      <th>b</th>\n",
       "      <td>6.0</td>\n",
       "    </tr>\n",
       "    <tr>\n",
       "      <th>c</th>\n",
       "      <td>3.0</td>\n",
       "    </tr>\n",
       "    <tr>\n",
       "      <th>d</th>\n",
       "      <td>2.0</td>\n",
       "    </tr>\n",
       "  </tbody>\n",
       "</table>\n",
       "</div>"
      ],
      "text/plain": [
       "     data\n",
       "key      \n",
       "a     0.0\n",
       "a     0.0\n",
       "a     0.0\n",
       "b     0.0\n",
       "b     1.0\n",
       "b     6.0\n",
       "c     3.0\n",
       "d     2.0"
      ]
     },
     "execution_count": 126,
     "metadata": {},
     "output_type": "execute_result"
    }
   ],
   "source": [
    "# using combine_first() to blend two dataframes into one\n",
    "\n",
    "df1_temp = df1.set_index(keys = \"key\")\n",
    "df2_temp = df2\n",
    "\n",
    "df1_temp[\"data\"] = np.where(df1_temp.index == \"a\", np.nan, df1_temp[\"data\"])\n",
    "\n",
    "df1_temp.combine_first(df2_temp) # the combine_first essentially acts like a patching for values with the same column/row index lookups"
   ]
  },
  {
   "cell_type": "code",
   "execution_count": 197,
   "id": "2cddfa67",
   "metadata": {},
   "outputs": [
    {
     "name": "stderr",
     "output_type": "stream",
     "text": [
      "C:\\Users\\paulb\\AppData\\Local\\Temp\\ipykernel_33588\\2554421242.py:9: DeprecationWarning: This function is deprecated. Please call randint(0, 10 + 1) instead\n",
      "  dd = df2.assign(value = np.random.random_integers(0, 10, 3))\n"
     ]
    },
    {
     "data": {
      "application/vnd.microsoft.datawrangler.viewer.v0+json": {
       "columns": [
        {
         "name": "index",
         "rawType": "int64",
         "type": "integer"
        },
        {
         "name": "key",
         "rawType": "object",
         "type": "string"
        },
        {
         "name": "data",
         "rawType": "object",
         "type": "string"
        },
        {
         "name": "magic_value",
         "rawType": "float64",
         "type": "float"
        }
       ],
       "conversionMethod": "pd.DataFrame",
       "ref": "d110a99d-66fb-4cc2-9c69-f910eb7473e7",
       "rows": [
        [
         "0",
         "a",
         "alpha",
         "9.0"
        ],
        [
         "4",
         "b",
         "beta",
         "10.0"
        ],
        [
         "8",
         "d",
         "gamma",
         "8.0"
        ]
       ],
       "shape": {
        "columns": 3,
        "rows": 3
       }
      },
      "text/html": [
       "<div>\n",
       "<style scoped>\n",
       "    .dataframe tbody tr th:only-of-type {\n",
       "        vertical-align: middle;\n",
       "    }\n",
       "\n",
       "    .dataframe tbody tr th {\n",
       "        vertical-align: top;\n",
       "    }\n",
       "\n",
       "    .dataframe thead th {\n",
       "        text-align: right;\n",
       "    }\n",
       "</style>\n",
       "<table border=\"1\" class=\"dataframe\">\n",
       "  <thead>\n",
       "    <tr style=\"text-align: right;\">\n",
       "      <th></th>\n",
       "      <th>key</th>\n",
       "      <th>data</th>\n",
       "      <th>magic_value</th>\n",
       "    </tr>\n",
       "  </thead>\n",
       "  <tbody>\n",
       "    <tr>\n",
       "      <th>0</th>\n",
       "      <td>a</td>\n",
       "      <td>alpha</td>\n",
       "      <td>9.0</td>\n",
       "    </tr>\n",
       "    <tr>\n",
       "      <th>4</th>\n",
       "      <td>b</td>\n",
       "      <td>beta</td>\n",
       "      <td>10.0</td>\n",
       "    </tr>\n",
       "    <tr>\n",
       "      <th>8</th>\n",
       "      <td>d</td>\n",
       "      <td>gamma</td>\n",
       "      <td>8.0</td>\n",
       "    </tr>\n",
       "  </tbody>\n",
       "</table>\n",
       "</div>"
      ],
      "text/plain": [
       "  key   data  magic_value\n",
       "0   a  alpha          9.0\n",
       "4   b   beta         10.0\n",
       "8   d  gamma          8.0"
      ]
     },
     "execution_count": 197,
     "metadata": {},
     "output_type": "execute_result"
    }
   ],
   "source": [
    "# pivot() is equivalent to dplyr::pivot_wider()\n",
    "\n",
    "# melt() is equivalent to dplyr::pivot_longer()\n",
    "\n",
    "# stack() is also similar to dplyr::pivot_longer(), although this can be used for transforming a DataFrame() to a Series()\n",
    "# unstack() is similar to dplyr::pivot_wider() but can convert Series() to DataFrame()\n",
    "\n",
    "df1.pivot(columns=\"key\", values=\"data\")\n",
    "dd = df2.assign(value = np.random.random_integers(0, 10, 3))\n",
    "dd = dd.pivot(columns=\"data\", values=\"value\").reset_index()\n",
    "\n",
    "rename_map = dict(enumerate([\"alpha\", \"beta\", \"gamma\"]))\n",
    "dd = dd.rename(columns=rename_map)\n",
    "\n",
    "dd = dd.melt(id_vars=\"key\", value_vars=[\"alpha\", \"beta\", \"gamma\"], value_name=\"magic_value\")\n",
    "dd = dd[dd[\"magic_value\"].notna()]\n",
    "\n",
    "dd\n"
   ]
  }
 ],
 "metadata": {
  "kernelspec": {
   "display_name": ".venv",
   "language": "python",
   "name": "python3"
  },
  "language_info": {
   "codemirror_mode": {
    "name": "ipython",
    "version": 3
   },
   "file_extension": ".py",
   "mimetype": "text/x-python",
   "name": "python",
   "nbconvert_exporter": "python",
   "pygments_lexer": "ipython3",
   "version": "3.13.3"
  }
 },
 "nbformat": 4,
 "nbformat_minor": 5
}
